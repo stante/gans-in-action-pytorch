{
 "cells": [
  {
   "cell_type": "markdown",
   "metadata": {},
   "source": [
    "# Chapter 9: CycleGAN"
   ]
  },
  {
   "cell_type": "markdown",
   "metadata": {},
   "source": [
    "# Imports"
   ]
  },
  {
   "cell_type": "code",
   "execution_count": 6,
   "metadata": {},
   "outputs": [],
   "source": [
    "import torch\n",
    "import torch.nn as nn"
   ]
  },
  {
   "cell_type": "markdown",
   "metadata": {},
   "source": [
    "# Generator"
   ]
  },
  {
   "cell_type": "code",
   "execution_count": 56,
   "metadata": {},
   "outputs": [],
   "source": [
    "class Generator(nn.Module):\n",
    "    def __init__(self):\n",
    "        super().__init__()\n",
    "        self.conv1 = nn.Sequential(\n",
    "            nn.Conv2d(3, 32, 3, stride=2, padding=1),\n",
    "            nn.BatchNorm2d(32),\n",
    "            nn.LeakyReLU())\n",
    "        self.conv2 = nn.Sequential(\n",
    "            nn.Conv2d(32, 64, 3, stride=2, padding=1),\n",
    "            nn.BatchNorm2d(64),\n",
    "            nn.LeakyReLU())\n",
    "        self.conv3 = nn.Sequential(\n",
    "            nn.Conv2d(64, 128, 3, stride=2, padding=1),\n",
    "            nn.BatchNorm2d(128),\n",
    "            nn.LeakyReLU())\n",
    "        self.conv4 = nn.Sequential(\n",
    "            nn.Conv2d(128, 256, 3, stride=2, padding=1),\n",
    "            nn.BatchNorm2d(256),\n",
    "            nn.LeakyReLU())\n",
    "        self.trans1a = nn.ConvTranspose2d(256, 128, 3, stride=2, padding=1, output_padding=1)\n",
    "        self.trans1b = nn.Sequential(\n",
    "            nn.BatchNorm2d(256),\n",
    "            nn.LeakyReLU())\n",
    "        self.trans2a = nn.ConvTranspose2d(256, 64, 3, stride=2, padding=1, output_padding=1)\n",
    "        self.trans2b = nn.Sequential(\n",
    "            nn.BatchNorm2d(128),\n",
    "            nn.LeakyReLU())\n",
    "        self.trans3a = nn.ConvTranspose2d(128, 32, 3, stride=2, padding=1, output_padding=1)\n",
    "        self.trans3b = nn.Sequential(\n",
    "            nn.BatchNorm2d(64),\n",
    "            nn.LeakyReLU())\n",
    "        self.trans4a = nn.ConvTranspose2d(64, 64, 3, stride=2, padding=1, output_padding=1)\n",
    "        self.trans4b = nn.Sequential(\n",
    "            nn.BatchNorm2d(67),\n",
    "            nn.LeakyReLU())\n",
    "        self.conv5 = nn.Sequential(\n",
    "            nn.Conv2d(67, 3, 3, stride=1, padding=1),\n",
    "            nn.Tanh())\n",
    "    \n",
    "    def forward(self, x):\n",
    "        skip_0 = x\n",
    "        print(x.shape)\n",
    "        skip_1 = x = self.conv1(x)\n",
    "        print(x.shape)\n",
    "        skip_2 = x = self.conv2(x)\n",
    "        print(x.shape)\n",
    "        skip_3 = x = self.conv3(x)\n",
    "        x = self.conv4(x)\n",
    "        print(x.shape)\n",
    "        x = torch.cat([self.trans1a(x), skip_3], dim=1)\n",
    "        print(x.shape)\n",
    "        x = self.trans1b(x)\n",
    "        x = torch.cat([self.trans2a(x), skip_2], dim=1)\n",
    "        x = self.trans2b(x)\n",
    "        x = torch.cat([self.trans3a(x), skip_1], dim=1)\n",
    "        x = self.trans3b(x)\n",
    "        x = torch.cat([self.trans4a(x), skip_0], dim=1)\n",
    "        x = self.trans4b(x)\n",
    "        x = self.conv5(x)\n",
    "        \n",
    "        return x"
   ]
  },
  {
   "cell_type": "code",
   "execution_count": 57,
   "metadata": {},
   "outputs": [],
   "source": [
    "generator = Generator()"
   ]
  },
  {
   "cell_type": "code",
   "execution_count": 58,
   "metadata": {},
   "outputs": [
    {
     "name": "stdout",
     "output_type": "stream",
     "text": [
      "torch.Size([8, 3, 128, 128])\n",
      "torch.Size([8, 32, 64, 64])\n",
      "torch.Size([8, 64, 32, 32])\n",
      "torch.Size([8, 256, 8, 8])\n",
      "torch.Size([8, 256, 16, 16])\n"
     ]
    }
   ],
   "source": [
    "out = generator(torch.randn(8, 3, 128, 128))"
   ]
  },
  {
   "cell_type": "code",
   "execution_count": 59,
   "metadata": {},
   "outputs": [
    {
     "data": {
      "text/plain": [
       "torch.Size([8, 3, 128, 128])"
      ]
     },
     "execution_count": 59,
     "metadata": {},
     "output_type": "execute_result"
    }
   ],
   "source": [
    "out.shape"
   ]
  },
  {
   "cell_type": "code",
   "execution_count": null,
   "metadata": {},
   "outputs": [],
   "source": []
  }
 ],
 "metadata": {
  "kernelspec": {
   "display_name": "Python 3",
   "language": "python",
   "name": "python3"
  },
  "language_info": {
   "codemirror_mode": {
    "name": "ipython",
    "version": 3
   },
   "file_extension": ".py",
   "mimetype": "text/x-python",
   "name": "python",
   "nbconvert_exporter": "python",
   "pygments_lexer": "ipython3",
   "version": "3.7.5"
  }
 },
 "nbformat": 4,
 "nbformat_minor": 2
}
