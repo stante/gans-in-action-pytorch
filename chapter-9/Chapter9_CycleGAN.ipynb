{
 "cells": [
  {
   "cell_type": "markdown",
   "metadata": {},
   "source": [
    "# Chapter 9: CycleGAN"
   ]
  },
  {
   "cell_type": "markdown",
   "metadata": {},
   "source": [
    "# Imports"
   ]
  },
  {
   "cell_type": "code",
   "execution_count": 171,
   "metadata": {},
   "outputs": [],
   "source": [
    "import torch\n",
    "import torch.nn as nn"
   ]
  },
  {
   "cell_type": "markdown",
   "metadata": {},
   "source": [
    "# Generator"
   ]
  },
  {
   "cell_type": "code",
   "execution_count": 172,
   "metadata": {},
   "outputs": [],
   "source": [
    "class Generator(nn.Module):\n",
    "    class TransSkip(nn.Module):\n",
    "        def __init__(self, in_channel, out_channel, kernel_size):\n",
    "            super().__init__()\n",
    "            self.trans1 = nn.Sequential(\n",
    "                nn.UpsamplingBilinear2d(scale_factor=2),\n",
    "                nn.Conv2d(in_channel, out_channel, kernel_size, stride=1, padding=int(kernel_size/2)),\n",
    "                nn.LeakyReLU(negative_slope=0.2),\n",
    "                nn.InstanceNorm2d(out_channel/2))\n",
    "            \n",
    "        def forward(self, x, skip):\n",
    "            trans = self.trans1(x)\n",
    "            x = torch.cat([trans,  skip], dim=1)\n",
    "            \n",
    "            return x\n",
    "\n",
    "    def __init__(self):\n",
    "        super().__init__()\n",
    "        self.conv1 = self.conv_layer(3, 32, 3)\n",
    "        self.conv2 = self.conv_layer(32, 64, 3)\n",
    "        self.conv3 = self.conv_layer(64, 128, 3)\n",
    "        self.conv4 = self.conv_layer(128, 256, 3)\n",
    "        \n",
    "        self.trans1 = self.TransSkip(256, 128, 3)\n",
    "        self.trans2 = self.TransSkip(256, 64, 3)\n",
    "        self.trans3 = self.TransSkip(128, 32, 3)\n",
    "        # Check if using skip from first image improves result\n",
    "        # self.trans4 = self.TransSkip(64, 64, 3)\n",
    "        # self.conv5 = nn.Sequential(\n",
    "        #     nn.Conv2d(67, 3, 3, stride=1, padding=1),\n",
    "        #     nn.Tanh())\n",
    "        self.trans4 = nn.UpsamplingBilinear2d(scale_factor=2)\n",
    "        self.conv5 = nn.Sequential(\n",
    "            nn.Conv2d(64, 3, 3, stride=1, padding=1),\n",
    "            nn.Tanh())\n",
    "    \n",
    "    def forward(self, x):\n",
    "        skip_0 = x\n",
    "        skip_1 = x = self.conv1(x)\n",
    "        skip_2 = x = self.conv2(x)\n",
    "        skip_3 = x = self.conv3(x)\n",
    "        x = self.conv4(x)\n",
    "        x = self.trans1(x, skip_3)\n",
    "        x = self.trans2(x, skip_2)\n",
    "        x = self.trans3(x, skip_1)\n",
    "        # x = self.trans4(x, skip_0)\n",
    "        x = self.trans4(x)\n",
    "        x = self.conv5(x)\n",
    "        \n",
    "        return x\n",
    "    \n",
    "    def conv_layer(self, in_channels, out_channels, kernel_size):\n",
    "        return nn.Sequential(\n",
    "            nn.Conv2d(in_channels, out_channels, kernel_size, stride=2, padding=1),\n",
    "            nn.LeakyReLU(),\n",
    "            nn.InstanceNorm2d(out_channels))"
   ]
  },
  {
   "cell_type": "code",
   "execution_count": 173,
   "metadata": {},
   "outputs": [],
   "source": [
    "generator = Generator()"
   ]
  },
  {
   "cell_type": "code",
   "execution_count": 174,
   "metadata": {},
   "outputs": [],
   "source": [
    "out = generator(torch.randn(8, 3, 128, 128))"
   ]
  },
  {
   "cell_type": "code",
   "execution_count": 175,
   "metadata": {},
   "outputs": [
    {
     "data": {
      "text/plain": [
       "torch.Size([8, 3, 128, 128])"
      ]
     },
     "execution_count": 175,
     "metadata": {},
     "output_type": "execute_result"
    }
   ],
   "source": [
    "out.shape"
   ]
  },
  {
   "cell_type": "code",
   "execution_count": 176,
   "metadata": {},
   "outputs": [],
   "source": [
    "class Discriminator(nn.Module):\n",
    "    def __init__(self):\n",
    "        super().__init__()\n",
    "        self.conv1 = self.conv_layer(3, 64, 3)\n",
    "        self.conv2 = self.conv_layer(64, 128, 3)\n",
    "        self.conv3 = self.conv_layer(128, 256, 3)\n",
    "        self.conv4 = self.conv_layer(256, 512, 3)\n",
    "        self.conv5 = nn.Conv2d(512, 1, 4, stride=1, padding=2)\n",
    "        \n",
    "    def forward(self, x):\n",
    "        x = self.conv1(x)\n",
    "        x = self.conv2(x)\n",
    "        x = self.conv3(x)\n",
    "        x = self.conv4(x)\n",
    "        x = self.conv5(x)\n",
    "        \n",
    "        return x\n",
    "    \n",
    "    def conv_layer(self, in_channels, out_channels, kernel_size):\n",
    "        return nn.Sequential(\n",
    "            nn.Conv2d(in_channels, out_channels, kernel_size, stride=2, padding=int(kernel_size/2)),\n",
    "            nn.LeakyReLU(negative_slope=0.2))"
   ]
  },
  {
   "cell_type": "code",
   "execution_count": 177,
   "metadata": {},
   "outputs": [],
   "source": [
    "discriminator = Discriminator()"
   ]
  },
  {
   "cell_type": "code",
   "execution_count": 178,
   "metadata": {},
   "outputs": [],
   "source": [
    "out = discriminator(torch.randn(8, 3, 128, 128))"
   ]
  },
  {
   "cell_type": "code",
   "execution_count": 179,
   "metadata": {},
   "outputs": [
    {
     "data": {
      "text/plain": [
       "torch.Size([8, 1, 9, 9])"
      ]
     },
     "execution_count": 179,
     "metadata": {},
     "output_type": "execute_result"
    }
   ],
   "source": [
    "out.shape"
   ]
  },
  {
   "cell_type": "code",
   "execution_count": null,
   "metadata": {},
   "outputs": [],
   "source": []
  },
  {
   "cell_type": "code",
   "execution_count": null,
   "metadata": {},
   "outputs": [],
   "source": []
  }
 ],
 "metadata": {
  "kernelspec": {
   "display_name": "Python 3",
   "language": "python",
   "name": "python3"
  },
  "language_info": {
   "codemirror_mode": {
    "name": "ipython",
    "version": 3
   },
   "file_extension": ".py",
   "mimetype": "text/x-python",
   "name": "python",
   "nbconvert_exporter": "python",
   "pygments_lexer": "ipython3",
   "version": "3.7.5"
  }
 },
 "nbformat": 4,
 "nbformat_minor": 2
}
