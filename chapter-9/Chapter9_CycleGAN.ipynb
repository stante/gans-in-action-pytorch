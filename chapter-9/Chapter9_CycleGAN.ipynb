{
 "cells": [
  {
   "cell_type": "markdown",
   "metadata": {},
   "source": [
    "# Chapter 9: CycleGAN"
   ]
  },
  {
   "cell_type": "markdown",
   "metadata": {},
   "source": [
    "# Imports"
   ]
  },
  {
   "cell_type": "code",
   "execution_count": 91,
   "metadata": {},
   "outputs": [],
   "source": [
    "import torch\n",
    "import torch.nn as nn\n",
    "import torch.cuda as cuda\n",
    "from torch.optim import Adam\n",
    "from torchvision.datasets import VisionDataset, ImageFolder\n",
    "from torchvision.datasets.folder import default_loader\n",
    "from torchvision.datasets.utils import check_integrity, download_and_extract_archive\n",
    "from torchvision.transforms import Compose, ToTensor, Resize, Lambda\n",
    "from torch.utils.data import DataLoader\n",
    "import os\n",
    "import matplotlib.pyplot as plt\n",
    "from tqdm.notebook import tqdm"
   ]
  },
  {
   "cell_type": "code",
   "execution_count": 92,
   "metadata": {},
   "outputs": [],
   "source": [
    "BATCH_SIZE = 32"
   ]
  },
  {
   "cell_type": "markdown",
   "metadata": {},
   "source": [
    "# Loading data"
   ]
  },
  {
   "cell_type": "markdown",
   "metadata": {},
   "source": [
    "PyTorch or torchvision does not come with the `apple2orange` dataset. Therefore we implement a full dataset which retrieves the data."
   ]
  },
  {
   "cell_type": "code",
   "execution_count": 93,
   "metadata": {},
   "outputs": [],
   "source": [
    "class Apple2Orange(VisionDataset):\n",
    "    url = \"https://people.eecs.berkeley.edu/~taesung_park/CycleGAN/datasets/apple2orange.zip\"\n",
    "    base_folder = \"apple2orange\"\n",
    "    filename = \"apple2orange.zip\"\n",
    "    zip_md5 = \"5b58c340256288622a835d6f3b6198ae\"\n",
    "    \n",
    "    def __init__(self, root, train=True, transform=None, target_transform=None,\n",
    "             download=False):\n",
    "        super().__init__(root, transform=transform,\n",
    "                            target_transform=target_transform)\n",
    "        self.train = train\n",
    "        self.train_folder = os.path.join(self.root, self.base_folder, \"train\")\n",
    "        self.test_folder = os.path.join(self.root, self.base_folder, \"test\")\n",
    "\n",
    "        if download:\n",
    "            self.download()\n",
    "            \n",
    "        if train:\n",
    "            root = self.train_folder\n",
    "        else:\n",
    "            root = self.test_folder\n",
    "            \n",
    "        self.apples = [f for f in os.scandir(os.path.join(root, \"apple\")) if f.is_file()]\n",
    "        self.oranges = [f for f in os.scandir(os.path.join(root, \"orange\")) if f.is_file()]\n",
    "        \n",
    "    def __getitem__(self, index):\n",
    "        return self.transform(default_loader(self.apples[index])), self.transform(default_loader(self.oranges[index]))\n",
    "    \n",
    "    def __len__(self):\n",
    "        return min(len(self.apples), len(self.oranges))\n",
    "            \n",
    "    def _check_integrity(self):\n",
    "        fpath = os.path.join(self.root, self.filename)\n",
    "        \n",
    "        if check_integrity(fpath, self.zip_md5) and os.path.exists(os.path.join(self.root, self.base_folder)):\n",
    "            return True\n",
    "        else:\n",
    "            return False\n",
    "        \n",
    "            \n",
    "    def download(self):\n",
    "        if self._check_integrity():\n",
    "            print('Files already downloaded and verified')\n",
    "            return\n",
    "        \n",
    "        #download_and_extract_archive(self.url, self.root, filename=self.filename, md5=self.zip_md5)\n",
    "        \n",
    "        train_path = os.path.join(self.root, self.base_folder, \"train\")\n",
    "        test_path = os.path.join(self.root, self.base_folder, \"test\")\n",
    "        source_train_a = os.path.join(self.root, self.base_folder, \"trainA\")\n",
    "        source_train_b = os.path.join(self.root, self.base_folder, \"trainB\")\n",
    "        source_test_a = os.path.join(self.root, self.base_folder, \"testA\")\n",
    "        source_test_b = os.path.join(self.root, self.base_folder, \"testB\")\n",
    "        \n",
    "        os.mkdir(train_path)\n",
    "        os.mkdir(test_path)\n",
    "        \n",
    "        os.renames(source_train_a, os.path.join(train_path, \"apple\"))\n",
    "        os.renames(source_train_b, os.path.join(train_path, \"orange\"))\n",
    "        os.renames(source_test_a, os.path.join(test_path, \"apple\"))\n",
    "        os.renames(source_test_b, os.path.join(test_path, \"orange\"))\n"
   ]
  },
  {
   "cell_type": "code",
   "execution_count": 94,
   "metadata": {},
   "outputs": [
    {
     "name": "stdout",
     "output_type": "stream",
     "text": [
      "Files already downloaded and verified\n",
      "Files already downloaded and verified\n"
     ]
    }
   ],
   "source": [
    "t = Compose([Resize(128), ToTensor(), Lambda(lambda x: x * 2 - 1)])\n",
    "train_set = Apple2Orange('~/pytorch', train=True, download=True, transform=t)\n",
    "test_set = Apple2Orange('~/pytorch', train=False, download=True, transform=t)\n",
    "train_loader = DataLoader(train_set, batch_size=BATCH_SIZE, shuffle=True, drop_last=True)"
   ]
  },
  {
   "cell_type": "markdown",
   "metadata": {},
   "source": [
    "# Support CUDA"
   ]
  },
  {
   "cell_type": "code",
   "execution_count": 95,
   "metadata": {},
   "outputs": [
    {
     "name": "stdout",
     "output_type": "stream",
     "text": [
      "Using cuda device for training\n"
     ]
    }
   ],
   "source": [
    "if cuda.is_available():\n",
    "    print(\"Using cuda device for training\")\n",
    "    device = 'cuda'\n",
    "else:\n",
    "    print(\"Using cpu for training\")\n",
    "    device = 'cpu'"
   ]
  },
  {
   "cell_type": "markdown",
   "metadata": {},
   "source": [
    "# Generator"
   ]
  },
  {
   "cell_type": "code",
   "execution_count": 96,
   "metadata": {},
   "outputs": [],
   "source": [
    "class Generator(nn.Module):\n",
    "    class TransSkip(nn.Module):\n",
    "        def __init__(self, in_channel, out_channel, kernel_size):\n",
    "            super().__init__()\n",
    "            self.trans1 = nn.Sequential(\n",
    "                nn.UpsamplingBilinear2d(scale_factor=2),\n",
    "                nn.Conv2d(in_channel, out_channel, kernel_size, stride=1, padding=int(kernel_size/2)),\n",
    "                nn.LeakyReLU(negative_slope=0.2),\n",
    "                nn.InstanceNorm2d(out_channel, affine=True))\n",
    "            \n",
    "        def forward(self, x, skip):\n",
    "            trans = self.trans1(x)\n",
    "            x = torch.cat([trans,  skip], dim=1)\n",
    "            \n",
    "            return x\n",
    "\n",
    "    def __init__(self):\n",
    "        super().__init__()\n",
    "        self.conv1 = self.conv_layer(3, 32, 3)\n",
    "        self.conv2 = self.conv_layer(32, 64, 3)\n",
    "        self.conv3 = self.conv_layer(64, 128, 3)\n",
    "        self.conv4 = self.conv_layer(128, 256, 3)\n",
    "        \n",
    "        self.trans1 = self.TransSkip(256, 128, 3)\n",
    "        self.trans2 = self.TransSkip(256, 64, 3)\n",
    "        self.trans3 = self.TransSkip(128, 32, 3)\n",
    "        # Check if using skip from first image improves result\n",
    "        # self.trans4 = self.TransSkip(64, 64, 3)\n",
    "        # self.conv5 = nn.Sequential(\n",
    "        #     nn.Conv2d(67, 3, 3, stride=1, padding=1),\n",
    "        #     nn.Tanh())\n",
    "        self.trans4 = nn.UpsamplingBilinear2d(scale_factor=2)\n",
    "        self.conv5 = nn.Sequential(\n",
    "            nn.Conv2d(64, 3, 3, stride=1, padding=1),\n",
    "            nn.Tanh())\n",
    "    \n",
    "    def forward(self, x):\n",
    "        skip_0 = x\n",
    "        skip_1 = x = self.conv1(x)\n",
    "        skip_2 = x = self.conv2(x)\n",
    "        skip_3 = x = self.conv3(x)\n",
    "        x = self.conv4(x)\n",
    "        x = self.trans1(x, skip_3)\n",
    "        x = self.trans2(x, skip_2)\n",
    "        x = self.trans3(x, skip_1)\n",
    "        # x = self.trans4(x, skip_0)\n",
    "        x = self.trans4(x)\n",
    "        x = self.conv5(x)\n",
    "        \n",
    "        return x\n",
    "    \n",
    "    def conv_layer(self, in_channels, out_channels, kernel_size):\n",
    "        return nn.Sequential(\n",
    "            nn.Conv2d(in_channels, out_channels, kernel_size, stride=2, padding=1),\n",
    "            nn.LeakyReLU(),\n",
    "            nn.InstanceNorm2d(out_channels, affine=True))"
   ]
  },
  {
   "cell_type": "code",
   "execution_count": 97,
   "metadata": {},
   "outputs": [],
   "source": [
    "class Discriminator(nn.Module):\n",
    "    def __init__(self):\n",
    "        super().__init__()\n",
    "        self.conv1 = self.conv_layer(3, 64, 3)\n",
    "        self.conv2 = self.conv_layer(64, 128, 3)\n",
    "        self.conv3 = self.conv_layer(128, 256, 3)\n",
    "        self.conv4 = self.conv_layer(256, 512, 3)\n",
    "        self.conv5 = nn.Conv2d(512, 1, 4, stride=1, padding=2)\n",
    "        \n",
    "    def forward(self, x):\n",
    "        x = self.conv1(x)\n",
    "        x = self.conv2(x)\n",
    "        x = self.conv3(x)\n",
    "        x = self.conv4(x)\n",
    "        x = self.conv5(x)\n",
    "        \n",
    "        return x\n",
    "    \n",
    "    def conv_layer(self, in_channels, out_channels, kernel_size):\n",
    "        return nn.Sequential(\n",
    "            nn.Conv2d(in_channels, out_channels, kernel_size, stride=2, padding=int(kernel_size/2)),\n",
    "            nn.LeakyReLU(negative_slope=0.2),\n",
    "            nn.InstanceNorm2d(out_channels, affine=True))"
   ]
  },
  {
   "cell_type": "code",
   "execution_count": 98,
   "metadata": {},
   "outputs": [],
   "source": [
    "gen_AB = Generator().to(device)\n",
    "gen_BA = Generator().to(device)\n",
    "dis_A = Discriminator().to(device)\n",
    "dis_B = Discriminator().to(device)\n",
    "\n",
    "cycle_loss_criteria = nn.L1Loss()\n",
    "adversarial_loss_criteria = nn.MSELoss()\n",
    "\n",
    "real = torch.ones(BATCH_SIZE, 1, 9, 9).to(device)\n",
    "fake = torch.zeros(BATCH_SIZE, 1, 9, 9).to(device)\n",
    "\n",
    "dis_A_optim = Adam(dis_A.parameters(), lr=0.0002, betas=(0.5, 0.999))\n",
    "dis_B_optim = Adam(dis_B.parameters(), lr=0.0002, betas=(0.5, 0.999))\n",
    "gen_AB_optim = Adam(gen_AB.parameters(), lr=0.0002, betas=(0.5, 0.999))\n",
    "gen_BA_optim = Adam(gen_BA.parameters(), lr=0.0002, betas=(0.5, 0.999))"
   ]
  },
  {
   "cell_type": "code",
   "execution_count": 99,
   "metadata": {},
   "outputs": [
    {
     "data": {
      "application/vnd.jupyter.widget-view+json": {
       "model_id": "3de63d0616374a328ec2f7a7fe4ee233",
       "version_major": 2,
       "version_minor": 0
      },
      "text/plain": [
       "HBox(children=(FloatProgress(value=0.0, max=31.0), HTML(value='')))"
      ]
     },
     "metadata": {},
     "output_type": "display_data"
    },
    {
     "name": "stdout",
     "output_type": "stream",
     "text": [
      "\n",
      "Epoch: 0 A_total: 7.3136 A_dis_fake: 0.6984 A_dis_real: 0.3790\n",
      "Epoch: 0 B_total: 7.2365 B_dis_fake: 0.5994 B_dis_real: 0.5562\n"
     ]
    },
    {
     "data": {
      "application/vnd.jupyter.widget-view+json": {
       "model_id": "971f017c258140aeab8d89d5a9bd76db",
       "version_major": 2,
       "version_minor": 0
      },
      "text/plain": [
       "HBox(children=(FloatProgress(value=0.0, max=31.0), HTML(value='')))"
      ]
     },
     "metadata": {},
     "output_type": "display_data"
    },
    {
     "name": "stdout",
     "output_type": "stream",
     "text": [
      "\n",
      "Epoch: 1 A_total: 7.5212 A_dis_fake: 0.7425 A_dis_real: 0.3432\n",
      "Epoch: 1 B_total: 7.5364 B_dis_fake: 0.6847 B_dis_real: 0.5616\n"
     ]
    },
    {
     "data": {
      "application/vnd.jupyter.widget-view+json": {
       "model_id": "115263ca15704c289e8c7775b3370cf0",
       "version_major": 2,
       "version_minor": 0
      },
      "text/plain": [
       "HBox(children=(FloatProgress(value=0.0, max=31.0), HTML(value='')))"
      ]
     },
     "metadata": {},
     "output_type": "display_data"
    },
    {
     "name": "stdout",
     "output_type": "stream",
     "text": [
      "\n",
      "Epoch: 2 A_total: 6.0841 A_dis_fake: 0.7156 A_dis_real: 0.3178\n",
      "Epoch: 2 B_total: 5.9524 B_dis_fake: 0.5840 B_dis_real: 0.4174\n"
     ]
    },
    {
     "data": {
      "application/vnd.jupyter.widget-view+json": {
       "model_id": "f67dd44407104c3bb42f3bbe83d75383",
       "version_major": 2,
       "version_minor": 0
      },
      "text/plain": [
       "HBox(children=(FloatProgress(value=0.0, max=31.0), HTML(value='')))"
      ]
     },
     "metadata": {},
     "output_type": "display_data"
    },
    {
     "name": "stdout",
     "output_type": "stream",
     "text": [
      "\n",
      "Epoch: 3 A_total: 6.0559 A_dis_fake: 0.7868 A_dis_real: 0.2657\n",
      "Epoch: 3 B_total: 5.8687 B_dis_fake: 0.6523 B_dis_real: 0.3856\n"
     ]
    },
    {
     "data": {
      "application/vnd.jupyter.widget-view+json": {
       "model_id": "7d7d73bad2c04c668aff8bfb9f27e665",
       "version_major": 2,
       "version_minor": 0
      },
      "text/plain": [
       "HBox(children=(FloatProgress(value=0.0, max=31.0), HTML(value='')))"
      ]
     },
     "metadata": {},
     "output_type": "display_data"
    },
    {
     "name": "stdout",
     "output_type": "stream",
     "text": [
      "\n",
      "Epoch: 4 A_total: 5.5429 A_dis_fake: 0.8024 A_dis_real: 0.2170\n",
      "Epoch: 4 B_total: 5.4966 B_dis_fake: 0.6578 B_dis_real: 0.3137\n"
     ]
    },
    {
     "data": {
      "application/vnd.jupyter.widget-view+json": {
       "model_id": "93e51e5873374f0889af27f155cf45d4",
       "version_major": 2,
       "version_minor": 0
      },
      "text/plain": [
       "HBox(children=(FloatProgress(value=0.0, max=31.0), HTML(value='')))"
      ]
     },
     "metadata": {},
     "output_type": "display_data"
    },
    {
     "name": "stdout",
     "output_type": "stream",
     "text": [
      "\n",
      "Epoch: 5 A_total: 5.6930 A_dis_fake: 0.7651 A_dis_real: 0.2016\n",
      "Epoch: 5 B_total: 5.3818 B_dis_fake: 0.5839 B_dis_real: 0.3056\n"
     ]
    },
    {
     "data": {
      "application/vnd.jupyter.widget-view+json": {
       "model_id": "686f0cd5570649c89efb117d16ba6ce0",
       "version_major": 2,
       "version_minor": 0
      },
      "text/plain": [
       "HBox(children=(FloatProgress(value=0.0, max=31.0), HTML(value='')))"
      ]
     },
     "metadata": {},
     "output_type": "display_data"
    },
    {
     "name": "stdout",
     "output_type": "stream",
     "text": [
      "\n",
      "Epoch: 6 A_total: 5.0005 A_dis_fake: 0.8709 A_dis_real: 0.1689\n",
      "Epoch: 6 B_total: 4.7892 B_dis_fake: 0.6165 B_dis_real: 0.2409\n"
     ]
    },
    {
     "data": {
      "application/vnd.jupyter.widget-view+json": {
       "model_id": "f653e4f395784916a3833f06c6727f2e",
       "version_major": 2,
       "version_minor": 0
      },
      "text/plain": [
       "HBox(children=(FloatProgress(value=0.0, max=31.0), HTML(value='')))"
      ]
     },
     "metadata": {},
     "output_type": "display_data"
    },
    {
     "name": "stdout",
     "output_type": "stream",
     "text": [
      "\n",
      "Epoch: 7 A_total: 5.4121 A_dis_fake: 0.8201 A_dis_real: 0.2509\n",
      "Epoch: 7 B_total: 5.1705 B_dis_fake: 0.6950 B_dis_real: 0.3165\n"
     ]
    },
    {
     "data": {
      "application/vnd.jupyter.widget-view+json": {
       "model_id": "78f4837dc0a04f89924f4d1edd92d5e4",
       "version_major": 2,
       "version_minor": 0
      },
      "text/plain": [
       "HBox(children=(FloatProgress(value=0.0, max=31.0), HTML(value='')))"
      ]
     },
     "metadata": {},
     "output_type": "display_data"
    },
    {
     "name": "stdout",
     "output_type": "stream",
     "text": [
      "\n",
      "Epoch: 8 A_total: 4.6758 A_dis_fake: 0.7322 A_dis_real: 0.2236\n",
      "Epoch: 8 B_total: 4.4769 B_dis_fake: 0.5967 B_dis_real: 0.4499\n"
     ]
    },
    {
     "data": {
      "application/vnd.jupyter.widget-view+json": {
       "model_id": "958af4c56f5c4aeaa8c7e79a49e7c710",
       "version_major": 2,
       "version_minor": 0
      },
      "text/plain": [
       "HBox(children=(FloatProgress(value=0.0, max=31.0), HTML(value='')))"
      ]
     },
     "metadata": {},
     "output_type": "display_data"
    },
    {
     "name": "stdout",
     "output_type": "stream",
     "text": [
      "\n",
      "Epoch: 9 A_total: 5.0995 A_dis_fake: 0.8522 A_dis_real: 0.1370\n",
      "Epoch: 9 B_total: 4.8084 B_dis_fake: 0.6023 B_dis_real: 0.3139\n"
     ]
    },
    {
     "data": {
      "application/vnd.jupyter.widget-view+json": {
       "model_id": "ea495da3597a427e850102632c536d81",
       "version_major": 2,
       "version_minor": 0
      },
      "text/plain": [
       "HBox(children=(FloatProgress(value=0.0, max=31.0), HTML(value='')))"
      ]
     },
     "metadata": {},
     "output_type": "display_data"
    },
    {
     "name": "stdout",
     "output_type": "stream",
     "text": [
      "\n",
      "Epoch: 10 A_total: 4.9691 A_dis_fake: 0.9008 A_dis_real: 0.1282\n",
      "Epoch: 10 B_total: 4.7680 B_dis_fake: 0.6446 B_dis_real: 0.1647\n"
     ]
    },
    {
     "data": {
      "application/vnd.jupyter.widget-view+json": {
       "model_id": "90fcbe6e3a2b472caa8d1fc736381e65",
       "version_major": 2,
       "version_minor": 0
      },
      "text/plain": [
       "HBox(children=(FloatProgress(value=0.0, max=31.0), HTML(value='')))"
      ]
     },
     "metadata": {},
     "output_type": "display_data"
    },
    {
     "name": "stdout",
     "output_type": "stream",
     "text": [
      "\n",
      "Epoch: 11 A_total: 4.9039 A_dis_fake: 0.8931 A_dis_real: 0.1508\n",
      "Epoch: 11 B_total: 4.5355 B_dis_fake: 0.5865 B_dis_real: 0.2587\n"
     ]
    },
    {
     "data": {
      "application/vnd.jupyter.widget-view+json": {
       "model_id": "99b6a296496543698f12b39fb0d77a48",
       "version_major": 2,
       "version_minor": 0
      },
      "text/plain": [
       "HBox(children=(FloatProgress(value=0.0, max=31.0), HTML(value='')))"
      ]
     },
     "metadata": {},
     "output_type": "display_data"
    },
    {
     "name": "stdout",
     "output_type": "stream",
     "text": [
      "\n",
      "Epoch: 12 A_total: 5.0413 A_dis_fake: 0.9098 A_dis_real: 0.1485\n",
      "Epoch: 12 B_total: 4.8854 B_dis_fake: 0.7241 B_dis_real: 0.2352\n"
     ]
    },
    {
     "data": {
      "application/vnd.jupyter.widget-view+json": {
       "model_id": "741e6e5d687d4d19a9d0b4499816ac8f",
       "version_major": 2,
       "version_minor": 0
      },
      "text/plain": [
       "HBox(children=(FloatProgress(value=0.0, max=31.0), HTML(value='')))"
      ]
     },
     "metadata": {},
     "output_type": "display_data"
    },
    {
     "name": "stdout",
     "output_type": "stream",
     "text": [
      "\n",
      "Epoch: 13 A_total: 4.7312 A_dis_fake: 0.7698 A_dis_real: 0.1398\n",
      "Epoch: 13 B_total: 4.4946 B_dis_fake: 0.5308 B_dis_real: 0.1921\n"
     ]
    },
    {
     "data": {
      "application/vnd.jupyter.widget-view+json": {
       "model_id": "ad28b588ea2b4e9ba26895b23babbcae",
       "version_major": 2,
       "version_minor": 0
      },
      "text/plain": [
       "HBox(children=(FloatProgress(value=0.0, max=31.0), HTML(value='')))"
      ]
     },
     "metadata": {},
     "output_type": "display_data"
    },
    {
     "name": "stdout",
     "output_type": "stream",
     "text": [
      "\n",
      "Epoch: 14 A_total: 4.5850 A_dis_fake: 0.8949 A_dis_real: 0.1422\n",
      "Epoch: 14 B_total: 4.4057 B_dis_fake: 0.6776 B_dis_real: 0.2604\n"
     ]
    },
    {
     "data": {
      "application/vnd.jupyter.widget-view+json": {
       "model_id": "020b3e09cb82410b91db3767c11d9b19",
       "version_major": 2,
       "version_minor": 0
      },
      "text/plain": [
       "HBox(children=(FloatProgress(value=0.0, max=31.0), HTML(value='')))"
      ]
     },
     "metadata": {},
     "output_type": "display_data"
    },
    {
     "name": "stdout",
     "output_type": "stream",
     "text": [
      "\n",
      "Epoch: 15 A_total: 4.8914 A_dis_fake: 1.0929 A_dis_real: 0.1389\n",
      "Epoch: 15 B_total: 4.4760 B_dis_fake: 0.6543 B_dis_real: 0.1660\n"
     ]
    },
    {
     "data": {
      "application/vnd.jupyter.widget-view+json": {
       "model_id": "4cc7bc9755544051b8e0229d1ffb4b8c",
       "version_major": 2,
       "version_minor": 0
      },
      "text/plain": [
       "HBox(children=(FloatProgress(value=0.0, max=31.0), HTML(value='')))"
      ]
     },
     "metadata": {},
     "output_type": "display_data"
    },
    {
     "name": "stdout",
     "output_type": "stream",
     "text": [
      "\n",
      "Epoch: 16 A_total: 4.5466 A_dis_fake: 0.9832 A_dis_real: 0.1906\n",
      "Epoch: 16 B_total: 4.2318 B_dis_fake: 0.7147 B_dis_real: 0.1789\n"
     ]
    },
    {
     "data": {
      "application/vnd.jupyter.widget-view+json": {
       "model_id": "4320eb2b31c444ed9932e72cab225085",
       "version_major": 2,
       "version_minor": 0
      },
      "text/plain": [
       "HBox(children=(FloatProgress(value=0.0, max=31.0), HTML(value='')))"
      ]
     },
     "metadata": {},
     "output_type": "display_data"
    },
    {
     "name": "stdout",
     "output_type": "stream",
     "text": [
      "\n",
      "Epoch: 17 A_total: 4.6257 A_dis_fake: 0.9154 A_dis_real: 0.2493\n",
      "Epoch: 17 B_total: 4.3191 B_dis_fake: 0.6223 B_dis_real: 0.2223\n"
     ]
    },
    {
     "data": {
      "application/vnd.jupyter.widget-view+json": {
       "model_id": "ee8dee1fa989477c815c220e526bcc67",
       "version_major": 2,
       "version_minor": 0
      },
      "text/plain": [
       "HBox(children=(FloatProgress(value=0.0, max=31.0), HTML(value='')))"
      ]
     },
     "metadata": {},
     "output_type": "display_data"
    },
    {
     "name": "stdout",
     "output_type": "stream",
     "text": [
      "\n",
      "Epoch: 18 A_total: 4.5120 A_dis_fake: 0.9950 A_dis_real: 0.1087\n",
      "Epoch: 18 B_total: 4.1517 B_dis_fake: 0.6738 B_dis_real: 0.1160\n"
     ]
    },
    {
     "data": {
      "application/vnd.jupyter.widget-view+json": {
       "model_id": "47fa796903ef42f29c2becf078fea1f9",
       "version_major": 2,
       "version_minor": 0
      },
      "text/plain": [
       "HBox(children=(FloatProgress(value=0.0, max=31.0), HTML(value='')))"
      ]
     },
     "metadata": {},
     "output_type": "display_data"
    },
    {
     "name": "stdout",
     "output_type": "stream",
     "text": [
      "\n",
      "Epoch: 19 A_total: 4.5268 A_dis_fake: 0.9555 A_dis_real: 0.1027\n",
      "Epoch: 19 B_total: 4.2995 B_dis_fake: 0.6922 B_dis_real: 0.1346\n"
     ]
    },
    {
     "data": {
      "application/vnd.jupyter.widget-view+json": {
       "model_id": "78c0a13bf8724d76a81927202503b04e",
       "version_major": 2,
       "version_minor": 0
      },
      "text/plain": [
       "HBox(children=(FloatProgress(value=0.0, max=31.0), HTML(value='')))"
      ]
     },
     "metadata": {},
     "output_type": "display_data"
    },
    {
     "name": "stdout",
     "output_type": "stream",
     "text": [
      "\n",
      "Epoch: 20 A_total: 4.2532 A_dis_fake: 0.9152 A_dis_real: 0.0629\n",
      "Epoch: 20 B_total: 4.0828 B_dis_fake: 0.7014 B_dis_real: 0.0837\n"
     ]
    },
    {
     "data": {
      "application/vnd.jupyter.widget-view+json": {
       "model_id": "33feab2be5ab461fa11ca683a9cffb20",
       "version_major": 2,
       "version_minor": 0
      },
      "text/plain": [
       "HBox(children=(FloatProgress(value=0.0, max=31.0), HTML(value='')))"
      ]
     },
     "metadata": {},
     "output_type": "display_data"
    },
    {
     "name": "stdout",
     "output_type": "stream",
     "text": [
      "\n",
      "Epoch: 21 A_total: 4.5518 A_dis_fake: 1.0974 A_dis_real: 0.1024\n",
      "Epoch: 21 B_total: 4.0807 B_dis_fake: 0.6725 B_dis_real: 0.0935\n"
     ]
    },
    {
     "data": {
      "application/vnd.jupyter.widget-view+json": {
       "model_id": "b88c3d3a69b84511b632e32303ddb9a7",
       "version_major": 2,
       "version_minor": 0
      },
      "text/plain": [
       "HBox(children=(FloatProgress(value=0.0, max=31.0), HTML(value='')))"
      ]
     },
     "metadata": {},
     "output_type": "display_data"
    },
    {
     "name": "stdout",
     "output_type": "stream",
     "text": [
      "\n",
      "Epoch: 22 A_total: 4.2811 A_dis_fake: 0.9192 A_dis_real: 0.0877\n",
      "Epoch: 22 B_total: 3.9521 B_dis_fake: 0.6130 B_dis_real: 0.1442\n"
     ]
    },
    {
     "data": {
      "application/vnd.jupyter.widget-view+json": {
       "model_id": "b63141a5ec13478090044fa76e566772",
       "version_major": 2,
       "version_minor": 0
      },
      "text/plain": [
       "HBox(children=(FloatProgress(value=0.0, max=31.0), HTML(value='')))"
      ]
     },
     "metadata": {},
     "output_type": "display_data"
    },
    {
     "name": "stdout",
     "output_type": "stream",
     "text": [
      "\n",
      "Epoch: 23 A_total: 4.8429 A_dis_fake: 0.9669 A_dis_real: 0.0607\n",
      "Epoch: 23 B_total: 4.7735 B_dis_fake: 0.6772 B_dis_real: 0.0892\n"
     ]
    },
    {
     "data": {
      "application/vnd.jupyter.widget-view+json": {
       "model_id": "7995e4b229de4e978e0d38a36d4f2e9c",
       "version_major": 2,
       "version_minor": 0
      },
      "text/plain": [
       "HBox(children=(FloatProgress(value=0.0, max=31.0), HTML(value='')))"
      ]
     },
     "metadata": {},
     "output_type": "display_data"
    },
    {
     "name": "stdout",
     "output_type": "stream",
     "text": [
      "\n",
      "Epoch: 24 A_total: 4.5439 A_dis_fake: 0.9762 A_dis_real: 0.0781\n",
      "Epoch: 24 B_total: 4.2810 B_dis_fake: 0.6673 B_dis_real: 0.0899\n"
     ]
    },
    {
     "data": {
      "application/vnd.jupyter.widget-view+json": {
       "model_id": "2c0e2f3a31f94440aa5264c96d28cbf6",
       "version_major": 2,
       "version_minor": 0
      },
      "text/plain": [
       "HBox(children=(FloatProgress(value=0.0, max=31.0), HTML(value='')))"
      ]
     },
     "metadata": {},
     "output_type": "display_data"
    },
    {
     "name": "stdout",
     "output_type": "stream",
     "text": [
      "\n",
      "Epoch: 25 A_total: 4.1328 A_dis_fake: 0.9831 A_dis_real: 0.0571\n",
      "Epoch: 25 B_total: 3.7617 B_dis_fake: 0.5194 B_dis_real: 0.1941\n"
     ]
    },
    {
     "data": {
      "application/vnd.jupyter.widget-view+json": {
       "model_id": "85e66b7aa15045aa9776794e6a5eaa07",
       "version_major": 2,
       "version_minor": 0
      },
      "text/plain": [
       "HBox(children=(FloatProgress(value=0.0, max=31.0), HTML(value='')))"
      ]
     },
     "metadata": {},
     "output_type": "display_data"
    },
    {
     "name": "stdout",
     "output_type": "stream",
     "text": [
      "\n",
      "Epoch: 26 A_total: 4.2817 A_dis_fake: 0.9760 A_dis_real: 0.0677\n",
      "Epoch: 26 B_total: 3.8899 B_dis_fake: 0.6177 B_dis_real: 0.1002\n"
     ]
    },
    {
     "data": {
      "application/vnd.jupyter.widget-view+json": {
       "model_id": "b9eaf9d98ab845b786a1c207b87c2c83",
       "version_major": 2,
       "version_minor": 0
      },
      "text/plain": [
       "HBox(children=(FloatProgress(value=0.0, max=31.0), HTML(value='')))"
      ]
     },
     "metadata": {},
     "output_type": "display_data"
    },
    {
     "name": "stdout",
     "output_type": "stream",
     "text": [
      "\n",
      "Epoch: 27 A_total: 3.9792 A_dis_fake: 0.8857 A_dis_real: 0.0678\n",
      "Epoch: 27 B_total: 3.8255 B_dis_fake: 0.7356 B_dis_real: 0.0970\n"
     ]
    },
    {
     "data": {
      "application/vnd.jupyter.widget-view+json": {
       "model_id": "b38f2ca8d5bf423c9aab31e040fa94f6",
       "version_major": 2,
       "version_minor": 0
      },
      "text/plain": [
       "HBox(children=(FloatProgress(value=0.0, max=31.0), HTML(value='')))"
      ]
     },
     "metadata": {},
     "output_type": "display_data"
    },
    {
     "name": "stdout",
     "output_type": "stream",
     "text": [
      "\n",
      "Epoch: 28 A_total: 4.1965 A_dis_fake: 0.9948 A_dis_real: 0.0643\n",
      "Epoch: 28 B_total: 3.8696 B_dis_fake: 0.6923 B_dis_real: 0.1119\n"
     ]
    },
    {
     "data": {
      "application/vnd.jupyter.widget-view+json": {
       "model_id": "193c01d6c2fe4213985c7326e242fa25",
       "version_major": 2,
       "version_minor": 0
      },
      "text/plain": [
       "HBox(children=(FloatProgress(value=0.0, max=31.0), HTML(value='')))"
      ]
     },
     "metadata": {},
     "output_type": "display_data"
    },
    {
     "name": "stdout",
     "output_type": "stream",
     "text": [
      "\n",
      "Epoch: 29 A_total: 4.3354 A_dis_fake: 0.9340 A_dis_real: 0.0449\n",
      "Epoch: 29 B_total: 4.0914 B_dis_fake: 0.6507 B_dis_real: 0.0657\n"
     ]
    },
    {
     "data": {
      "application/vnd.jupyter.widget-view+json": {
       "model_id": "3e4636fafaf14b718bf6f63c687ab510",
       "version_major": 2,
       "version_minor": 0
      },
      "text/plain": [
       "HBox(children=(FloatProgress(value=0.0, max=31.0), HTML(value='')))"
      ]
     },
     "metadata": {},
     "output_type": "display_data"
    },
    {
     "name": "stdout",
     "output_type": "stream",
     "text": [
      "\n",
      "Epoch: 30 A_total: 4.2406 A_dis_fake: 0.9156 A_dis_real: 0.0550\n",
      "Epoch: 30 B_total: 4.0468 B_dis_fake: 0.6685 B_dis_real: 0.0868\n"
     ]
    },
    {
     "data": {
      "application/vnd.jupyter.widget-view+json": {
       "model_id": "f8472bf2a4174214bad1027c851dbf31",
       "version_major": 2,
       "version_minor": 0
      },
      "text/plain": [
       "HBox(children=(FloatProgress(value=0.0, max=31.0), HTML(value='')))"
      ]
     },
     "metadata": {},
     "output_type": "display_data"
    },
    {
     "name": "stdout",
     "output_type": "stream",
     "text": [
      "\n",
      "Epoch: 31 A_total: 4.0093 A_dis_fake: 0.9028 A_dis_real: 0.0587\n",
      "Epoch: 31 B_total: 3.8013 B_dis_fake: 0.6792 B_dis_real: 0.0630\n"
     ]
    },
    {
     "data": {
      "application/vnd.jupyter.widget-view+json": {
       "model_id": "067c4033d2984283ac6036f0ce712829",
       "version_major": 2,
       "version_minor": 0
      },
      "text/plain": [
       "HBox(children=(FloatProgress(value=0.0, max=31.0), HTML(value='')))"
      ]
     },
     "metadata": {},
     "output_type": "display_data"
    },
    {
     "name": "stdout",
     "output_type": "stream",
     "text": [
      "\n",
      "Epoch: 32 A_total: 3.9232 A_dis_fake: 1.0029 A_dis_real: 0.0824\n",
      "Epoch: 32 B_total: 3.6830 B_dis_fake: 0.7013 B_dis_real: 0.0909\n"
     ]
    },
    {
     "data": {
      "application/vnd.jupyter.widget-view+json": {
       "model_id": "b9340a037a03443891bf8ad3f14e3f27",
       "version_major": 2,
       "version_minor": 0
      },
      "text/plain": [
       "HBox(children=(FloatProgress(value=0.0, max=31.0), HTML(value='')))"
      ]
     },
     "metadata": {},
     "output_type": "display_data"
    },
    {
     "name": "stdout",
     "output_type": "stream",
     "text": [
      "\n",
      "Epoch: 33 A_total: 4.0698 A_dis_fake: 0.9711 A_dis_real: 0.0983\n",
      "Epoch: 33 B_total: 3.7334 B_dis_fake: 0.5741 B_dis_real: 0.1973\n"
     ]
    },
    {
     "data": {
      "application/vnd.jupyter.widget-view+json": {
       "model_id": "badbf3b5138b4b5fb958174022567dda",
       "version_major": 2,
       "version_minor": 0
      },
      "text/plain": [
       "HBox(children=(FloatProgress(value=0.0, max=31.0), HTML(value='')))"
      ]
     },
     "metadata": {},
     "output_type": "display_data"
    },
    {
     "name": "stdout",
     "output_type": "stream",
     "text": [
      "\n",
      "Epoch: 34 A_total: 3.7251 A_dis_fake: 0.8392 A_dis_real: 0.1064\n",
      "Epoch: 34 B_total: 3.3929 B_dis_fake: 0.4773 B_dis_real: 0.1494\n"
     ]
    },
    {
     "data": {
      "application/vnd.jupyter.widget-view+json": {
       "model_id": "832519c6d25e4be0b3be5d3b687188de",
       "version_major": 2,
       "version_minor": 0
      },
      "text/plain": [
       "HBox(children=(FloatProgress(value=0.0, max=31.0), HTML(value='')))"
      ]
     },
     "metadata": {},
     "output_type": "display_data"
    },
    {
     "name": "stdout",
     "output_type": "stream",
     "text": [
      "\n",
      "Epoch: 35 A_total: 4.4201 A_dis_fake: 1.0537 A_dis_real: 0.0742\n",
      "Epoch: 35 B_total: 3.8416 B_dis_fake: 0.5225 B_dis_real: 0.0723\n"
     ]
    },
    {
     "data": {
      "application/vnd.jupyter.widget-view+json": {
       "model_id": "2749c54326b24107807a46ac047480b0",
       "version_major": 2,
       "version_minor": 0
      },
      "text/plain": [
       "HBox(children=(FloatProgress(value=0.0, max=31.0), HTML(value='')))"
      ]
     },
     "metadata": {},
     "output_type": "display_data"
    },
    {
     "name": "stdout",
     "output_type": "stream",
     "text": [
      "\n",
      "Epoch: 36 A_total: 3.9346 A_dis_fake: 0.9888 A_dis_real: 0.0256\n",
      "Epoch: 36 B_total: 3.7622 B_dis_fake: 0.7008 B_dis_real: 0.0758\n"
     ]
    },
    {
     "data": {
      "application/vnd.jupyter.widget-view+json": {
       "model_id": "236e36e34a3641f383885704784dee62",
       "version_major": 2,
       "version_minor": 0
      },
      "text/plain": [
       "HBox(children=(FloatProgress(value=0.0, max=31.0), HTML(value='')))"
      ]
     },
     "metadata": {},
     "output_type": "display_data"
    },
    {
     "name": "stdout",
     "output_type": "stream",
     "text": [
      "\n",
      "Epoch: 37 A_total: 4.2387 A_dis_fake: 1.0066 A_dis_real: 0.0275\n",
      "Epoch: 37 B_total: 3.8702 B_dis_fake: 0.5750 B_dis_real: 0.0731\n"
     ]
    },
    {
     "data": {
      "application/vnd.jupyter.widget-view+json": {
       "model_id": "3d75510add834c478211b229ce41a79f",
       "version_major": 2,
       "version_minor": 0
      },
      "text/plain": [
       "HBox(children=(FloatProgress(value=0.0, max=31.0), HTML(value='')))"
      ]
     },
     "metadata": {},
     "output_type": "display_data"
    },
    {
     "name": "stdout",
     "output_type": "stream",
     "text": [
      "\n",
      "Epoch: 38 A_total: 3.9782 A_dis_fake: 1.0299 A_dis_real: 0.0765\n",
      "Epoch: 38 B_total: 3.7688 B_dis_fake: 0.7519 B_dis_real: 0.1941\n"
     ]
    },
    {
     "data": {
      "application/vnd.jupyter.widget-view+json": {
       "model_id": "fa4ad776c5b444dcbebab8914d70e927",
       "version_major": 2,
       "version_minor": 0
      },
      "text/plain": [
       "HBox(children=(FloatProgress(value=0.0, max=31.0), HTML(value='')))"
      ]
     },
     "metadata": {},
     "output_type": "display_data"
    },
    {
     "name": "stdout",
     "output_type": "stream",
     "text": [
      "\n",
      "Epoch: 39 A_total: 3.8708 A_dis_fake: 0.9999 A_dis_real: 0.0285\n",
      "Epoch: 39 B_total: 3.5760 B_dis_fake: 0.6190 B_dis_real: 0.0515\n"
     ]
    },
    {
     "data": {
      "application/vnd.jupyter.widget-view+json": {
       "model_id": "ab74c92e5074491bb54f551843f49dd6",
       "version_major": 2,
       "version_minor": 0
      },
      "text/plain": [
       "HBox(children=(FloatProgress(value=0.0, max=31.0), HTML(value='')))"
      ]
     },
     "metadata": {},
     "output_type": "display_data"
    },
    {
     "name": "stdout",
     "output_type": "stream",
     "text": [
      "\n",
      "Epoch: 40 A_total: 3.8537 A_dis_fake: 0.9923 A_dis_real: 0.0339\n",
      "Epoch: 40 B_total: 3.3507 B_dis_fake: 0.4945 B_dis_real: 0.0693\n"
     ]
    },
    {
     "data": {
      "application/vnd.jupyter.widget-view+json": {
       "model_id": "8b7233b8b20643ac834241e73b9a739f",
       "version_major": 2,
       "version_minor": 0
      },
      "text/plain": [
       "HBox(children=(FloatProgress(value=0.0, max=31.0), HTML(value='')))"
      ]
     },
     "metadata": {},
     "output_type": "display_data"
    },
    {
     "name": "stdout",
     "output_type": "stream",
     "text": [
      "\n",
      "Epoch: 41 A_total: 3.7427 A_dis_fake: 0.9226 A_dis_real: 0.0928\n",
      "Epoch: 41 B_total: 3.6897 B_dis_fake: 0.6998 B_dis_real: 0.0626\n"
     ]
    },
    {
     "data": {
      "application/vnd.jupyter.widget-view+json": {
       "model_id": "980dfbd5e1814b0a9987692a537bb89f",
       "version_major": 2,
       "version_minor": 0
      },
      "text/plain": [
       "HBox(children=(FloatProgress(value=0.0, max=31.0), HTML(value='')))"
      ]
     },
     "metadata": {},
     "output_type": "display_data"
    },
    {
     "name": "stdout",
     "output_type": "stream",
     "text": [
      "\n",
      "Epoch: 42 A_total: 3.8451 A_dis_fake: 0.9419 A_dis_real: 0.0320\n",
      "Epoch: 42 B_total: 3.5342 B_dis_fake: 0.5731 B_dis_real: 0.0454\n"
     ]
    },
    {
     "data": {
      "application/vnd.jupyter.widget-view+json": {
       "model_id": "8b32628b96e249e49ca93a5ba3441397",
       "version_major": 2,
       "version_minor": 0
      },
      "text/plain": [
       "HBox(children=(FloatProgress(value=0.0, max=31.0), HTML(value='')))"
      ]
     },
     "metadata": {},
     "output_type": "display_data"
    },
    {
     "name": "stdout",
     "output_type": "stream",
     "text": [
      "\n",
      "Epoch: 43 A_total: 3.8478 A_dis_fake: 0.9711 A_dis_real: 0.0208\n",
      "Epoch: 43 B_total: 3.5366 B_dis_fake: 0.5813 B_dis_real: 0.0465\n"
     ]
    },
    {
     "data": {
      "application/vnd.jupyter.widget-view+json": {
       "model_id": "deec11f58c574a089565d6a5ca755fa5",
       "version_major": 2,
       "version_minor": 0
      },
      "text/plain": [
       "HBox(children=(FloatProgress(value=0.0, max=31.0), HTML(value='')))"
      ]
     },
     "metadata": {},
     "output_type": "display_data"
    },
    {
     "name": "stdout",
     "output_type": "stream",
     "text": [
      "\n",
      "Epoch: 44 A_total: 3.7772 A_dis_fake: 0.9748 A_dis_real: 0.0293\n",
      "Epoch: 44 B_total: 3.3216 B_dis_fake: 0.4709 B_dis_real: 0.0554\n"
     ]
    },
    {
     "data": {
      "application/vnd.jupyter.widget-view+json": {
       "model_id": "4e6ff08d4d9a4871be4665ee35068a57",
       "version_major": 2,
       "version_minor": 0
      },
      "text/plain": [
       "HBox(children=(FloatProgress(value=0.0, max=31.0), HTML(value='')))"
      ]
     },
     "metadata": {},
     "output_type": "display_data"
    },
    {
     "name": "stdout",
     "output_type": "stream",
     "text": [
      "\n",
      "Epoch: 45 A_total: 3.9843 A_dis_fake: 1.0068 A_dis_real: 0.0194\n",
      "Epoch: 45 B_total: 3.5800 B_dis_fake: 0.4994 B_dis_real: 0.0441\n"
     ]
    },
    {
     "data": {
      "application/vnd.jupyter.widget-view+json": {
       "model_id": "c3dd9f88c337428e96fb39800cb9c0d8",
       "version_major": 2,
       "version_minor": 0
      },
      "text/plain": [
       "HBox(children=(FloatProgress(value=0.0, max=31.0), HTML(value='')))"
      ]
     },
     "metadata": {},
     "output_type": "display_data"
    },
    {
     "name": "stdout",
     "output_type": "stream",
     "text": [
      "\n",
      "Epoch: 46 A_total: 3.8800 A_dis_fake: 0.9878 A_dis_real: 0.0378\n",
      "Epoch: 46 B_total: 3.5459 B_dis_fake: 0.6396 B_dis_real: 0.0430\n"
     ]
    },
    {
     "data": {
      "application/vnd.jupyter.widget-view+json": {
       "model_id": "093e949b6647456caff4d583f2a68020",
       "version_major": 2,
       "version_minor": 0
      },
      "text/plain": [
       "HBox(children=(FloatProgress(value=0.0, max=31.0), HTML(value='')))"
      ]
     },
     "metadata": {},
     "output_type": "display_data"
    },
    {
     "name": "stdout",
     "output_type": "stream",
     "text": [
      "\n",
      "Epoch: 47 A_total: 3.5589 A_dis_fake: 1.0158 A_dis_real: 0.0352\n",
      "Epoch: 47 B_total: 3.1732 B_dis_fake: 0.5159 B_dis_real: 0.0526\n"
     ]
    },
    {
     "data": {
      "application/vnd.jupyter.widget-view+json": {
       "model_id": "3e59c4814ceb4d5ca410933b73414657",
       "version_major": 2,
       "version_minor": 0
      },
      "text/plain": [
       "HBox(children=(FloatProgress(value=0.0, max=31.0), HTML(value='')))"
      ]
     },
     "metadata": {},
     "output_type": "display_data"
    },
    {
     "name": "stdout",
     "output_type": "stream",
     "text": [
      "\n",
      "Epoch: 48 A_total: 3.7606 A_dis_fake: 0.9729 A_dis_real: 0.0450\n",
      "Epoch: 48 B_total: 3.6738 B_dis_fake: 0.7342 B_dis_real: 0.0630\n"
     ]
    },
    {
     "data": {
      "application/vnd.jupyter.widget-view+json": {
       "model_id": "97881562f1a348739313d9e4986ef5c7",
       "version_major": 2,
       "version_minor": 0
      },
      "text/plain": [
       "HBox(children=(FloatProgress(value=0.0, max=31.0), HTML(value='')))"
      ]
     },
     "metadata": {},
     "output_type": "display_data"
    },
    {
     "name": "stdout",
     "output_type": "stream",
     "text": [
      "\n",
      "Epoch: 49 A_total: 3.8664 A_dis_fake: 0.9955 A_dis_real: 0.0207\n",
      "Epoch: 49 B_total: 3.4784 B_dis_fake: 0.5301 B_dis_real: 0.0384\n"
     ]
    },
    {
     "data": {
      "application/vnd.jupyter.widget-view+json": {
       "model_id": "1199634c52b84669a49948503ed37fad",
       "version_major": 2,
       "version_minor": 0
      },
      "text/plain": [
       "HBox(children=(FloatProgress(value=0.0, max=31.0), HTML(value='')))"
      ]
     },
     "metadata": {},
     "output_type": "display_data"
    },
    {
     "name": "stdout",
     "output_type": "stream",
     "text": [
      "\n",
      "Epoch: 50 A_total: 3.6720 A_dis_fake: 0.9530 A_dis_real: 0.0251\n",
      "Epoch: 50 B_total: 3.3781 B_dis_fake: 0.5871 B_dis_real: 0.0415\n"
     ]
    },
    {
     "data": {
      "application/vnd.jupyter.widget-view+json": {
       "model_id": "e92188ad5f114844b9d1b1af3d3b1eb3",
       "version_major": 2,
       "version_minor": 0
      },
      "text/plain": [
       "HBox(children=(FloatProgress(value=0.0, max=31.0), HTML(value='')))"
      ]
     },
     "metadata": {},
     "output_type": "display_data"
    },
    {
     "name": "stdout",
     "output_type": "stream",
     "text": [
      "\n",
      "Epoch: 51 A_total: 3.8343 A_dis_fake: 0.9037 A_dis_real: 0.0425\n",
      "Epoch: 51 B_total: 3.6292 B_dis_fake: 0.6563 B_dis_real: 0.0974\n"
     ]
    },
    {
     "data": {
      "application/vnd.jupyter.widget-view+json": {
       "model_id": "41154ddf12534e5ead601341ca88f428",
       "version_major": 2,
       "version_minor": 0
      },
      "text/plain": [
       "HBox(children=(FloatProgress(value=0.0, max=31.0), HTML(value='')))"
      ]
     },
     "metadata": {},
     "output_type": "display_data"
    },
    {
     "name": "stdout",
     "output_type": "stream",
     "text": [
      "\n",
      "Epoch: 52 A_total: 3.9050 A_dis_fake: 1.0191 A_dis_real: 0.0339\n",
      "Epoch: 52 B_total: 3.4266 B_dis_fake: 0.5350 B_dis_real: 0.0683\n"
     ]
    },
    {
     "data": {
      "application/vnd.jupyter.widget-view+json": {
       "model_id": "d02b94e70d5b45f4a4df2f0e15d41908",
       "version_major": 2,
       "version_minor": 0
      },
      "text/plain": [
       "HBox(children=(FloatProgress(value=0.0, max=31.0), HTML(value='')))"
      ]
     },
     "metadata": {},
     "output_type": "display_data"
    },
    {
     "name": "stdout",
     "output_type": "stream",
     "text": [
      "\n",
      "Epoch: 53 A_total: 3.9138 A_dis_fake: 0.9994 A_dis_real: 0.0227\n",
      "Epoch: 53 B_total: 3.5458 B_dis_fake: 0.4573 B_dis_real: 0.0439\n"
     ]
    },
    {
     "data": {
      "application/vnd.jupyter.widget-view+json": {
       "model_id": "5149db0084bc45ada6eadfe10977dace",
       "version_major": 2,
       "version_minor": 0
      },
      "text/plain": [
       "HBox(children=(FloatProgress(value=0.0, max=31.0), HTML(value='')))"
      ]
     },
     "metadata": {},
     "output_type": "display_data"
    },
    {
     "name": "stdout",
     "output_type": "stream",
     "text": [
      "\n",
      "Epoch: 54 A_total: 3.5845 A_dis_fake: 1.0044 A_dis_real: 0.0180\n",
      "Epoch: 54 B_total: 3.1450 B_dis_fake: 0.4265 B_dis_real: 0.0429\n"
     ]
    },
    {
     "data": {
      "application/vnd.jupyter.widget-view+json": {
       "model_id": "71224347b26b41c793b5ed5812788a89",
       "version_major": 2,
       "version_minor": 0
      },
      "text/plain": [
       "HBox(children=(FloatProgress(value=0.0, max=31.0), HTML(value='')))"
      ]
     },
     "metadata": {},
     "output_type": "display_data"
    },
    {
     "name": "stdout",
     "output_type": "stream",
     "text": [
      "\n",
      "Epoch: 55 A_total: 3.7607 A_dis_fake: 0.9482 A_dis_real: 0.0286\n",
      "Epoch: 55 B_total: 3.4005 B_dis_fake: 0.5178 B_dis_real: 0.0663\n"
     ]
    },
    {
     "data": {
      "application/vnd.jupyter.widget-view+json": {
       "model_id": "55eba0b7dad44111a2377d6e023cb8cd",
       "version_major": 2,
       "version_minor": 0
      },
      "text/plain": [
       "HBox(children=(FloatProgress(value=0.0, max=31.0), HTML(value='')))"
      ]
     },
     "metadata": {},
     "output_type": "display_data"
    },
    {
     "name": "stdout",
     "output_type": "stream",
     "text": [
      "\n",
      "Epoch: 56 A_total: 3.5826 A_dis_fake: 0.9608 A_dis_real: 0.0311\n",
      "Epoch: 56 B_total: 3.1580 B_dis_fake: 0.4871 B_dis_real: 0.0618\n"
     ]
    },
    {
     "data": {
      "application/vnd.jupyter.widget-view+json": {
       "model_id": "338c5568db504ed4a459f22ad20f2af9",
       "version_major": 2,
       "version_minor": 0
      },
      "text/plain": [
       "HBox(children=(FloatProgress(value=0.0, max=31.0), HTML(value='')))"
      ]
     },
     "metadata": {},
     "output_type": "display_data"
    },
    {
     "name": "stdout",
     "output_type": "stream",
     "text": [
      "\n",
      "Epoch: 57 A_total: 3.6268 A_dis_fake: 0.9911 A_dis_real: 0.0218\n",
      "Epoch: 57 B_total: 3.2784 B_dis_fake: 0.5726 B_dis_real: 0.0330\n"
     ]
    },
    {
     "data": {
      "application/vnd.jupyter.widget-view+json": {
       "model_id": "c13a8b1f059a46bbab35b6215f7c5353",
       "version_major": 2,
       "version_minor": 0
      },
      "text/plain": [
       "HBox(children=(FloatProgress(value=0.0, max=31.0), HTML(value='')))"
      ]
     },
     "metadata": {},
     "output_type": "display_data"
    },
    {
     "name": "stdout",
     "output_type": "stream",
     "text": [
      "\n",
      "Epoch: 58 A_total: 3.5297 A_dis_fake: 1.0075 A_dis_real: 0.0198\n",
      "Epoch: 58 B_total: 3.2215 B_dis_fake: 0.5218 B_dis_real: 0.0255\n"
     ]
    },
    {
     "data": {
      "application/vnd.jupyter.widget-view+json": {
       "model_id": "ce8f0d553f254259a8ffb4ce93906706",
       "version_major": 2,
       "version_minor": 0
      },
      "text/plain": [
       "HBox(children=(FloatProgress(value=0.0, max=31.0), HTML(value='')))"
      ]
     },
     "metadata": {},
     "output_type": "display_data"
    },
    {
     "name": "stdout",
     "output_type": "stream",
     "text": [
      "\n",
      "Epoch: 59 A_total: 3.4978 A_dis_fake: 1.0204 A_dis_real: 0.0297\n",
      "Epoch: 59 B_total: 3.0098 B_dis_fake: 0.4652 B_dis_real: 0.0384\n"
     ]
    },
    {
     "data": {
      "application/vnd.jupyter.widget-view+json": {
       "model_id": "f55fdf7bc6f643e59769c737a9a7a1ec",
       "version_major": 2,
       "version_minor": 0
      },
      "text/plain": [
       "HBox(children=(FloatProgress(value=0.0, max=31.0), HTML(value='')))"
      ]
     },
     "metadata": {},
     "output_type": "display_data"
    },
    {
     "name": "stdout",
     "output_type": "stream",
     "text": [
      "\n",
      "Epoch: 60 A_total: 3.7801 A_dis_fake: 1.0509 A_dis_real: 0.0679\n",
      "Epoch: 60 B_total: 3.2019 B_dis_fake: 0.3733 B_dis_real: 0.0667\n"
     ]
    },
    {
     "data": {
      "application/vnd.jupyter.widget-view+json": {
       "model_id": "b64b8ddefc7e4569964a7c7d7aad7727",
       "version_major": 2,
       "version_minor": 0
      },
      "text/plain": [
       "HBox(children=(FloatProgress(value=0.0, max=31.0), HTML(value='')))"
      ]
     },
     "metadata": {},
     "output_type": "display_data"
    },
    {
     "name": "stdout",
     "output_type": "stream",
     "text": [
      "\n",
      "Epoch: 61 A_total: 4.0339 A_dis_fake: 0.9970 A_dis_real: 0.0154\n",
      "Epoch: 61 B_total: 9.6275 B_dis_fake: 6.2994 B_dis_real: 3.1888\n"
     ]
    },
    {
     "data": {
      "application/vnd.jupyter.widget-view+json": {
       "model_id": "36857f14ecca4077b3f9e9ea8779a498",
       "version_major": 2,
       "version_minor": 0
      },
      "text/plain": [
       "HBox(children=(FloatProgress(value=0.0, max=31.0), HTML(value='')))"
      ]
     },
     "metadata": {},
     "output_type": "display_data"
    },
    {
     "name": "stdout",
     "output_type": "stream",
     "text": [
      "\n",
      "Epoch: 62 A_total: 3.5831 A_dis_fake: 1.0051 A_dis_real: 0.0358\n",
      "Epoch: 62 B_total: 2.9307 B_dis_fake: 0.3217 B_dis_real: 0.3482\n"
     ]
    },
    {
     "data": {
      "application/vnd.jupyter.widget-view+json": {
       "model_id": "64bc1efbf3f94e9a81c36d320e3f78ff",
       "version_major": 2,
       "version_minor": 0
      },
      "text/plain": [
       "HBox(children=(FloatProgress(value=0.0, max=31.0), HTML(value='')))"
      ]
     },
     "metadata": {},
     "output_type": "display_data"
    },
    {
     "name": "stdout",
     "output_type": "stream",
     "text": [
      "\n",
      "Epoch: 63 A_total: 3.2389 A_dis_fake: 0.6302 A_dis_real: 0.2924\n",
      "Epoch: 63 B_total: 2.9022 B_dis_fake: 0.2982 B_dis_real: 0.5048\n"
     ]
    },
    {
     "data": {
      "application/vnd.jupyter.widget-view+json": {
       "model_id": "4ff317d2e9574b4991b9da53f773adf3",
       "version_major": 2,
       "version_minor": 0
      },
      "text/plain": [
       "HBox(children=(FloatProgress(value=0.0, max=31.0), HTML(value='')))"
      ]
     },
     "metadata": {},
     "output_type": "display_data"
    },
    {
     "name": "stdout",
     "output_type": "stream",
     "text": [
      "\n",
      "Epoch: 64 A_total: 3.3965 A_dis_fake: 0.9890 A_dis_real: 0.0401\n",
      "Epoch: 64 B_total: 2.7671 B_dis_fake: 0.2961 B_dis_real: 0.3056\n"
     ]
    },
    {
     "data": {
      "application/vnd.jupyter.widget-view+json": {
       "model_id": "8a343e763784434ba6c873c99b788457",
       "version_major": 2,
       "version_minor": 0
      },
      "text/plain": [
       "HBox(children=(FloatProgress(value=0.0, max=31.0), HTML(value='')))"
      ]
     },
     "metadata": {},
     "output_type": "display_data"
    },
    {
     "name": "stdout",
     "output_type": "stream",
     "text": [
      "\n",
      "Epoch: 65 A_total: 3.5905 A_dis_fake: 0.9821 A_dis_real: 0.0176\n",
      "Epoch: 65 B_total: 2.9100 B_dis_fake: 0.2957 B_dis_real: 0.2206\n"
     ]
    },
    {
     "data": {
      "application/vnd.jupyter.widget-view+json": {
       "model_id": "244698ce526042a993d19522796c0e3d",
       "version_major": 2,
       "version_minor": 0
      },
      "text/plain": [
       "HBox(children=(FloatProgress(value=0.0, max=31.0), HTML(value='')))"
      ]
     },
     "metadata": {},
     "output_type": "display_data"
    },
    {
     "name": "stdout",
     "output_type": "stream",
     "text": [
      "\n",
      "Epoch: 66 A_total: 3.5263 A_dis_fake: 1.0002 A_dis_real: 0.0317\n",
      "Epoch: 66 B_total: 2.8022 B_dis_fake: 0.2863 B_dis_real: 0.2183\n"
     ]
    },
    {
     "data": {
      "application/vnd.jupyter.widget-view+json": {
       "model_id": "7554d03888144b0882757cb473ffbd82",
       "version_major": 2,
       "version_minor": 0
      },
      "text/plain": [
       "HBox(children=(FloatProgress(value=0.0, max=31.0), HTML(value='')))"
      ]
     },
     "metadata": {},
     "output_type": "display_data"
    },
    {
     "name": "stdout",
     "output_type": "stream",
     "text": [
      "\n",
      "Epoch: 67 A_total: 3.5585 A_dis_fake: 0.9969 A_dis_real: 0.0155\n",
      "Epoch: 67 B_total: 2.9042 B_dis_fake: 0.3209 B_dis_real: 0.1893\n"
     ]
    },
    {
     "data": {
      "application/vnd.jupyter.widget-view+json": {
       "model_id": "75fa37e4b3494b019bf63f866262892f",
       "version_major": 2,
       "version_minor": 0
      },
      "text/plain": [
       "HBox(children=(FloatProgress(value=0.0, max=31.0), HTML(value='')))"
      ]
     },
     "metadata": {},
     "output_type": "display_data"
    },
    {
     "ename": "KeyboardInterrupt",
     "evalue": "",
     "output_type": "error",
     "traceback": [
      "\u001b[0;31m---------------------------------------------------------------------------\u001b[0m",
      "\u001b[0;31mKeyboardInterrupt\u001b[0m                         Traceback (most recent call last)",
      "\u001b[0;32m<ipython-input-99-a672e940164a>\u001b[0m in \u001b[0;36m<module>\u001b[0;34m\u001b[0m\n\u001b[1;32m     56\u001b[0m \u001b[0;34m\u001b[0m\u001b[0m\n\u001b[1;32m     57\u001b[0m         \u001b[0mrec_B_loss\u001b[0m \u001b[0;34m=\u001b[0m \u001b[0mcycle_loss_criteria\u001b[0m\u001b[0;34m(\u001b[0m\u001b[0mimg_B\u001b[0m\u001b[0;34m,\u001b[0m \u001b[0mimg_B_rec\u001b[0m\u001b[0;34m)\u001b[0m \u001b[0;34m*\u001b[0m \u001b[0;36m10\u001b[0m\u001b[0;34m\u001b[0m\u001b[0;34m\u001b[0m\u001b[0m\n\u001b[0;32m---> 58\u001b[0;31m         \u001b[0madv_B_loss\u001b[0m \u001b[0;34m=\u001b[0m \u001b[0madversarial_loss_criteria\u001b[0m\u001b[0;34m(\u001b[0m\u001b[0md_out\u001b[0m\u001b[0;34m,\u001b[0m \u001b[0mreal\u001b[0m\u001b[0;34m)\u001b[0m\u001b[0;34m\u001b[0m\u001b[0;34m\u001b[0m\u001b[0m\n\u001b[0m\u001b[1;32m     59\u001b[0m         \u001b[0mid_B_loss\u001b[0m \u001b[0;34m=\u001b[0m \u001b[0mcycle_loss_criteria\u001b[0m\u001b[0;34m(\u001b[0m\u001b[0mimg_A\u001b[0m\u001b[0;34m,\u001b[0m \u001b[0mimg_A_gen2\u001b[0m\u001b[0;34m)\u001b[0m \u001b[0;34m*\u001b[0m \u001b[0;36m9\u001b[0m\u001b[0;34m\u001b[0m\u001b[0;34m\u001b[0m\u001b[0m\n\u001b[1;32m     60\u001b[0m         \u001b[0mtotal_B_loss\u001b[0m \u001b[0;34m=\u001b[0m \u001b[0mrec_B_loss\u001b[0m \u001b[0;34m+\u001b[0m \u001b[0madv_B_loss\u001b[0m \u001b[0;34m+\u001b[0m \u001b[0mid_B_loss\u001b[0m\u001b[0;34m\u001b[0m\u001b[0;34m\u001b[0m\u001b[0m\n",
      "\u001b[0;32m~/miniconda3/envs/pytorch13/lib/python3.7/site-packages/torch/nn/modules/module.py\u001b[0m in \u001b[0;36m__call__\u001b[0;34m(self, *input, **kwargs)\u001b[0m\n\u001b[1;32m    539\u001b[0m             \u001b[0mresult\u001b[0m \u001b[0;34m=\u001b[0m \u001b[0mself\u001b[0m\u001b[0;34m.\u001b[0m\u001b[0m_slow_forward\u001b[0m\u001b[0;34m(\u001b[0m\u001b[0;34m*\u001b[0m\u001b[0minput\u001b[0m\u001b[0;34m,\u001b[0m \u001b[0;34m**\u001b[0m\u001b[0mkwargs\u001b[0m\u001b[0;34m)\u001b[0m\u001b[0;34m\u001b[0m\u001b[0;34m\u001b[0m\u001b[0m\n\u001b[1;32m    540\u001b[0m         \u001b[0;32melse\u001b[0m\u001b[0;34m:\u001b[0m\u001b[0;34m\u001b[0m\u001b[0;34m\u001b[0m\u001b[0m\n\u001b[0;32m--> 541\u001b[0;31m             \u001b[0mresult\u001b[0m \u001b[0;34m=\u001b[0m \u001b[0mself\u001b[0m\u001b[0;34m.\u001b[0m\u001b[0mforward\u001b[0m\u001b[0;34m(\u001b[0m\u001b[0;34m*\u001b[0m\u001b[0minput\u001b[0m\u001b[0;34m,\u001b[0m \u001b[0;34m**\u001b[0m\u001b[0mkwargs\u001b[0m\u001b[0;34m)\u001b[0m\u001b[0;34m\u001b[0m\u001b[0;34m\u001b[0m\u001b[0m\n\u001b[0m\u001b[1;32m    542\u001b[0m         \u001b[0;32mfor\u001b[0m \u001b[0mhook\u001b[0m \u001b[0;32min\u001b[0m \u001b[0mself\u001b[0m\u001b[0;34m.\u001b[0m\u001b[0m_forward_hooks\u001b[0m\u001b[0;34m.\u001b[0m\u001b[0mvalues\u001b[0m\u001b[0;34m(\u001b[0m\u001b[0;34m)\u001b[0m\u001b[0;34m:\u001b[0m\u001b[0;34m\u001b[0m\u001b[0;34m\u001b[0m\u001b[0m\n\u001b[1;32m    543\u001b[0m             \u001b[0mhook_result\u001b[0m \u001b[0;34m=\u001b[0m \u001b[0mhook\u001b[0m\u001b[0;34m(\u001b[0m\u001b[0mself\u001b[0m\u001b[0;34m,\u001b[0m \u001b[0minput\u001b[0m\u001b[0;34m,\u001b[0m \u001b[0mresult\u001b[0m\u001b[0;34m)\u001b[0m\u001b[0;34m\u001b[0m\u001b[0;34m\u001b[0m\u001b[0m\n",
      "\u001b[0;32m~/miniconda3/envs/pytorch13/lib/python3.7/site-packages/torch/nn/modules/loss.py\u001b[0m in \u001b[0;36mforward\u001b[0;34m(self, input, target)\u001b[0m\n\u001b[1;32m    429\u001b[0m \u001b[0;34m\u001b[0m\u001b[0m\n\u001b[1;32m    430\u001b[0m     \u001b[0;32mdef\u001b[0m \u001b[0mforward\u001b[0m\u001b[0;34m(\u001b[0m\u001b[0mself\u001b[0m\u001b[0;34m,\u001b[0m \u001b[0minput\u001b[0m\u001b[0;34m,\u001b[0m \u001b[0mtarget\u001b[0m\u001b[0;34m)\u001b[0m\u001b[0;34m:\u001b[0m\u001b[0;34m\u001b[0m\u001b[0;34m\u001b[0m\u001b[0m\n\u001b[0;32m--> 431\u001b[0;31m         \u001b[0;32mreturn\u001b[0m \u001b[0mF\u001b[0m\u001b[0;34m.\u001b[0m\u001b[0mmse_loss\u001b[0m\u001b[0;34m(\u001b[0m\u001b[0minput\u001b[0m\u001b[0;34m,\u001b[0m \u001b[0mtarget\u001b[0m\u001b[0;34m,\u001b[0m \u001b[0mreduction\u001b[0m\u001b[0;34m=\u001b[0m\u001b[0mself\u001b[0m\u001b[0;34m.\u001b[0m\u001b[0mreduction\u001b[0m\u001b[0;34m)\u001b[0m\u001b[0;34m\u001b[0m\u001b[0;34m\u001b[0m\u001b[0m\n\u001b[0m\u001b[1;32m    432\u001b[0m \u001b[0;34m\u001b[0m\u001b[0m\n\u001b[1;32m    433\u001b[0m \u001b[0;34m\u001b[0m\u001b[0m\n",
      "\u001b[0;32m~/miniconda3/envs/pytorch13/lib/python3.7/site-packages/torch/nn/functional.py\u001b[0m in \u001b[0;36mmse_loss\u001b[0;34m(input, target, size_average, reduce, reduction)\u001b[0m\n\u001b[1;32m   2202\u001b[0m     \u001b[0;32melse\u001b[0m\u001b[0;34m:\u001b[0m\u001b[0;34m\u001b[0m\u001b[0;34m\u001b[0m\u001b[0m\n\u001b[1;32m   2203\u001b[0m         \u001b[0mexpanded_input\u001b[0m\u001b[0;34m,\u001b[0m \u001b[0mexpanded_target\u001b[0m \u001b[0;34m=\u001b[0m \u001b[0mtorch\u001b[0m\u001b[0;34m.\u001b[0m\u001b[0mbroadcast_tensors\u001b[0m\u001b[0;34m(\u001b[0m\u001b[0minput\u001b[0m\u001b[0;34m,\u001b[0m \u001b[0mtarget\u001b[0m\u001b[0;34m)\u001b[0m\u001b[0;34m\u001b[0m\u001b[0;34m\u001b[0m\u001b[0m\n\u001b[0;32m-> 2204\u001b[0;31m         \u001b[0mret\u001b[0m \u001b[0;34m=\u001b[0m \u001b[0mtorch\u001b[0m\u001b[0;34m.\u001b[0m\u001b[0m_C\u001b[0m\u001b[0;34m.\u001b[0m\u001b[0m_nn\u001b[0m\u001b[0;34m.\u001b[0m\u001b[0mmse_loss\u001b[0m\u001b[0;34m(\u001b[0m\u001b[0mexpanded_input\u001b[0m\u001b[0;34m,\u001b[0m \u001b[0mexpanded_target\u001b[0m\u001b[0;34m,\u001b[0m \u001b[0m_Reduction\u001b[0m\u001b[0;34m.\u001b[0m\u001b[0mget_enum\u001b[0m\u001b[0;34m(\u001b[0m\u001b[0mreduction\u001b[0m\u001b[0;34m)\u001b[0m\u001b[0;34m)\u001b[0m\u001b[0;34m\u001b[0m\u001b[0;34m\u001b[0m\u001b[0m\n\u001b[0m\u001b[1;32m   2205\u001b[0m     \u001b[0;32mreturn\u001b[0m \u001b[0mret\u001b[0m\u001b[0;34m\u001b[0m\u001b[0;34m\u001b[0m\u001b[0m\n\u001b[1;32m   2206\u001b[0m \u001b[0;34m\u001b[0m\u001b[0m\n",
      "\u001b[0;31mKeyboardInterrupt\u001b[0m: "
     ]
    }
   ],
   "source": [
    "for epoch in range(100):\n",
    "    for img_A, img_B in tqdm(train_loader):\n",
    "        img_A = img_A.to(device)\n",
    "        img_B = img_B.to(device)\n",
    "        # A -> B\n",
    "        img_B_gen = gen_AB(img_A)\n",
    "        d_out = dis_B(img_B_gen)\n",
    "        fake_loss = adversarial_loss_criteria(d_out, fake)\n",
    "\n",
    "        dis_B_optim.zero_grad()\n",
    "        fake_loss.backward()\n",
    "        dis_B_optim.step()\n",
    "\n",
    "        d_out = dis_B(img_B)\n",
    "        real_loss = adversarial_loss_criteria(d_out, real)\n",
    "        \n",
    "        total_disA_loss = fake_loss + real_loss\n",
    "\n",
    "        dis_B_optim.zero_grad()\n",
    "        real_loss.backward()\n",
    "        dis_B_optim.step()\n",
    "\n",
    "        # B -> A\n",
    "        img_A_gen = gen_BA(img_A)\n",
    "        d_out = dis_A(img_A_gen)\n",
    "        fake_loss = adversarial_loss_criteria(d_out, fake)\n",
    "\n",
    "        dis_A_optim.zero_grad()\n",
    "        fake_loss.backward()\n",
    "        dis_A_optim.step()\n",
    "\n",
    "        d_out = dis_A(img_A)\n",
    "        fake_loss = adversarial_loss_criteria(d_out, real)\n",
    "        \n",
    "        total_disB_loss = fake_loss + real_loss\n",
    "\n",
    "        dis_A_optim.zero_grad()\n",
    "        fake_loss.backward()\n",
    "        dis_A_optim.step()\n",
    "\n",
    "        # Generator\n",
    "        img_B_gen = gen_AB(img_A)\n",
    "        img_A_rec = gen_BA(img_B_gen)\n",
    "        d_out = dis_B(img_B_gen)\n",
    "        img_B_gen2 = gen_AB(img_B)\n",
    "\n",
    "        rec_A_loss = cycle_loss_criteria(img_A, img_A_rec) #* 10\n",
    "        adv_A_loss = adversarial_loss_criteria(d_out, real)\n",
    "        id_A_loss = cycle_loss_criteria(img_B, img_B_gen2) #* 9\n",
    "        total_A_loss = rec_A_loss + adv_A_loss + id_A_loss\n",
    "\n",
    "        img_A_gen = gen_BA(img_B)\n",
    "        img_B_rec = gen_AB(img_A_gen)\n",
    "        d_out = dis_A(img_A_gen)\n",
    "        img_A_gen2 = gen_BA(img_A)\n",
    "\n",
    "        rec_B_loss = cycle_loss_criteria(img_B, img_B_rec) #* 10\n",
    "        adv_B_loss = adversarial_loss_criteria(d_out, real)\n",
    "        id_B_loss = cycle_loss_criteria(img_A, img_A_gen2) #* 9\n",
    "        total_B_loss = rec_B_loss + adv_B_loss + id_B_loss\n",
    "\n",
    "        gen_AB_optim.zero_grad()\n",
    "        gen_BA_optim.zero_grad()\n",
    "\n",
    "        total_A_loss.backward()\n",
    "        total_B_loss.backward()\n",
    "\n",
    "        gen_AB_optim.step()\n",
    "        gen_BA_optim.step()\n",
    "\n",
    "    print(f\"Epoch: {epoch} A_total: {total_A_loss:.4f} A_dis_fake: {adv_A_loss:.4f} A_dis_real: {total_disA_loss:.4f}\")\n",
    "    print(f\"Epoch: {epoch} B_total: {total_B_loss:.4f} B_dis_fake: {adv_B_loss:.4f} B_dis_real: {total_disB_loss:.4f}\")"
   ]
  },
  {
   "cell_type": "code",
   "execution_count": 111,
   "metadata": {},
   "outputs": [],
   "source": [
    "real_A, real_B = train_set[1]\n",
    "real_A = real_A.to(device)\n",
    "real_B = real_B.to(device)\n",
    "real_A = (real_A + 1) / 2\n",
    "real_B = (real_B + 1) / 2"
   ]
  },
  {
   "cell_type": "code",
   "execution_count": 112,
   "metadata": {},
   "outputs": [],
   "source": [
    "fake_B, fake_A = gen_AB(real_A.unsqueeze(dim=0)), gen_BA(real_B.unsqueeze(dim=0))\n",
    "fake_A = (fake_A + 1) / 2\n",
    "fake_B = (fake_B + 1) / 2"
   ]
  },
  {
   "cell_type": "code",
   "execution_count": 113,
   "metadata": {},
   "outputs": [
    {
     "data": {
      "text/plain": [
       "<matplotlib.image.AxesImage at 0x7fa12893ac50>"
      ]
     },
     "execution_count": 113,
     "metadata": {},
     "output_type": "execute_result"
    },
    {
     "data": {
      "image/png": "[encoded data removed]",
      "text/plain": [
       "<Figure size 432x288 with 1 Axes>"
      ]
     },
     "metadata": {
      "needs_background": "light"
     },
     "output_type": "display_data"
    }
   ],
   "source": [
    "plt.imshow(real_A.to('cpu').permute(1,2,0))"
   ]
  },
  {
   "cell_type": "code",
   "execution_count": 109,
   "metadata": {},
   "outputs": [
    {
     "data": {
      "text/plain": [
       "<matplotlib.image.AxesImage at 0x7fa128a231d0>"
      ]
     },
     "execution_count": 109,
     "metadata": {},
     "output_type": "execute_result"
    },
    {
     "data": {
      "image/png": "[encoded data removed]",
      "text/plain": [
       "<Figure size 432x288 with 1 Axes>"
      ]
     },
     "metadata": {
      "needs_background": "light"
     },
     "output_type": "display_data"
    }
   ],
   "source": [
    "plt.imshow(fake_B.to('cpu').detach().squeeze().permute(1,2,0))"
   ]
  },
  {
   "cell_type": "code",
   "execution_count": 110,
   "metadata": {},
   "outputs": [
    {
     "data": {
      "text/plain": [
       "<matplotlib.image.AxesImage at 0x7fa128a074d0>"
      ]
     },
     "execution_count": 110,
     "metadata": {},
     "output_type": "execute_result"
    },
    {
     "data": {
      "image/png": "[encoded data removed]",
      "text/plain": [
       "<Figure size 432x288 with 1 Axes>"
      ]
     },
     "metadata": {
      "needs_background": "light"
     },
     "output_type": "display_data"
    }
   ],
   "source": [
    "plt.imshow(fake_B.to('cpu').detach().squeeze().permute(1,2,0))"
   ]
  },
  {
   "cell_type": "code",
   "execution_count": null,
   "metadata": {},
   "outputs": [],
   "source": [
    "fake_A.shape"
   ]
  },
  {
   "cell_type": "code",
   "execution_count": null,
   "metadata": {},
   "outputs": [],
   "source": [
    "rec_A = gen_BA(fake_B)"
   ]
  },
  {
   "cell_type": "code",
   "execution_count": null,
   "metadata": {},
   "outputs": [],
   "source": [
    "rec_A = (rec_A + 1) / 2"
   ]
  },
  {
   "cell_type": "code",
   "execution_count": null,
   "metadata": {},
   "outputs": [],
   "source": [
    "plt.imshow(rec_A.to('cpu').detach().squeeze().permute(1,2,0))"
   ]
  },
  {
   "cell_type": "code",
   "execution_count": null,
   "metadata": {},
   "outputs": [],
   "source": []
  }
 ],
 "metadata": {
  "kernelspec": {
   "display_name": "Python 3",
   "language": "python",
   "name": "python3"
  },
  "language_info": {
   "codemirror_mode": {
    "name": "ipython",
    "version": 3
   },
   "file_extension": ".py",
   "mimetype": "text/x-python",
   "name": "python",
   "nbconvert_exporter": "python",
   "pygments_lexer": "ipython3",
   "version": "3.7.5"
  }
 },
 "nbformat": 4,
 "nbformat_minor": 2
}
