{
 "cells": [
  {
   "cell_type": "markdown",
   "metadata": {},
   "source": [
    "# Chapter 8: Conditional GAN\n",
    "\n",
    "Conditional GAN is a GAN variant presented in the paper [Conditional Generative Adversarial Nets](https://arxiv.org/abs/1411.1784) by *Mehdi Mirza* and *Simon Osindero*. This architecture allows to direct the generator what samples to create.\n",
    "\n",
    "The provided example in this notebook is using the MNIST dataset to train a generator and allows to tell the generator what number should be generated. The CGAN has the follwing architecture.\n",
    "![Architecture](img/architecture.png)"
   ]
  },
  {
   "cell_type": "code",
   "execution_count": 1,
   "metadata": {},
   "outputs": [],
   "source": [
    "import torch\n",
    "import torch.nn as nn\n",
    "import torch.optim as optim\n",
    "from torch.utils.data import DataLoader\n",
    "import torch.cuda as cuda\n",
    "from torchvision.datasets import MNIST\n",
    "from torchvision.transforms import Compose, ToTensor, Lambda\n",
    "\n",
    "from tqdm.notebook import tqdm\n",
    "import matplotlib.pyplot as plt"
   ]
  },
  {
   "cell_type": "markdown",
   "metadata": {},
   "source": [
    "# Loading data\n",
    "\n",
    "We use the PyTorch data loading capabilities and define the function `get_z_vector` to get a latent vector $z$ of the desired length.\n",
    "\n",
    "The PyTorch `torchvision` package provides a convenient way to access the MNIST dataset. The images in the dataset come in the range $\\left[0, 255\\right]$ and are first converted to a tensor in the range $\\left[0.0, 1.0\\right]$ and finally normalized with `Lambda` to be in $\\left[-1.0, +1.0\\right]$. The `DataLoader` class is used to iterate through the dataset and assembles the batches of size 32 and shuffles the access."
   ]
  },
  {
   "cell_type": "code",
   "execution_count": 2,
   "metadata": {},
   "outputs": [],
   "source": [
    "# A transform which results that the images are in the desired range\n",
    "trans = Compose([ToTensor(), Lambda(lambda x: x * 2 - 1)])\n",
    "\n",
    "# The actual MNIST dataset on which the transformation is applied\n",
    "train_set = MNIST('~/pytorch', train=True, transform=trans, download=True)\n",
    "\n",
    "# The DataLoader which provides us batches of 32 data samples\n",
    "train_loader = DataLoader(train_set, batch_size=32, shuffle=True)\n",
    "\n",
    "# Function to get the latent vector z\n",
    "def get_z_vector(batch_size, length):\n",
    "    return torch.randn(batch_size, length)"
   ]
  },
  {
   "cell_type": "markdown",
   "metadata": {},
   "source": [
    "# Support CUDA\n",
    "\n",
    "In PyTorch GPU (CUDA) support is done explicitly by moving the tensors to the device. Therefore, we define the variable `device` which is used in the following code to execute the tensors on the GPU or CPU."
   ]
  },
  {
   "cell_type": "code",
   "execution_count": 3,
   "metadata": {},
   "outputs": [
    {
     "name": "stdout",
     "output_type": "stream",
     "text": [
      "Using cuda device for training\n"
     ]
    }
   ],
   "source": [
    "if cuda.is_available():\n",
    "    print(\"Using cuda device for training\")\n",
    "    device = 'cuda'\n",
    "else:\n",
    "    print(\"Using cpu for training\")\n",
    "    device = 'cpu'"
   ]
  },
  {
   "cell_type": "markdown",
   "metadata": {},
   "source": [
    "# Generator\n",
    "![Generator](img/generator.png)"
   ]
  },
  {
   "cell_type": "code",
   "execution_count": 4,
   "metadata": {},
   "outputs": [],
   "source": [
    "class Generator(nn.Module):\n",
    "    def __init__(self, num_classes, z_dim):\n",
    "        super().__init__()\n",
    "        self.embed = nn.Embedding(num_classes, z_dim)\n",
    "        self.dense = nn.Linear(z_dim, 7 * 7 * 256)\n",
    "        self.trans1 = nn.Sequential(\n",
    "            nn.ConvTranspose2d(256, 128, 3, stride=2, padding=1, output_padding=1),\n",
    "            nn.BatchNorm2d(128),\n",
    "            nn.LeakyReLU())\n",
    "        self.trans2 = nn.Sequential(\n",
    "            nn.ConvTranspose2d(128, 64, 3, stride=1, padding=1),\n",
    "            nn.BatchNorm2d(64),\n",
    "            nn.LeakyReLU())\n",
    "        self.trans3 = nn.Sequential(\n",
    "            nn.ConvTranspose2d(64, 1, 3, stride=2, padding=1, output_padding=1),\n",
    "            nn.Tanh())\n",
    "        \n",
    "    def forward(self, z, label):\n",
    "        embedded_label = self.embed(label)\n",
    "        x = embedded_label * z\n",
    "        x = self.dense(x).view(-1, 256, 7, 7)\n",
    "        x = self.trans1(x)\n",
    "        x = self.trans2(x)\n",
    "        x = self.trans3(x)\n",
    "        \n",
    "        return x"
   ]
  },
  {
   "cell_type": "markdown",
   "metadata": {},
   "source": [
    "# Discriminator\n",
    "\n",
    "The descriminator converts the inputs $(x, y)$ into a prediction $\\sigma$, which is the probablity that the input is sampled from a real distribution $p_{data}$. The architecture is shown in the image below.\n",
    "\n",
    "![Discriminator](img/discriminator.png)\n",
    "\n",
    "The discriminator embeds the label $embed(y)$ and concatinates it with the image $x$. After that, three `Conv2d` layers with `LeakyReLU` activation and `BatchNorm2d` follow. Note that the fist layer does not use batch normalization.\n",
    "\n",
    "At the end of the network a `Linear` layer is used with `Sigmoid` activation."
   ]
  },
  {
   "cell_type": "code",
   "execution_count": 5,
   "metadata": {},
   "outputs": [],
   "source": [
    "class Discriminator(nn.Module):\n",
    "    def __init__(self, num_classes, img_size):\n",
    "        super().__init__()\n",
    "        self.width = img_size[0]\n",
    "        self.height = img_size[1]\n",
    "        \n",
    "        self.embed = nn.Embedding(10, self.width * self.height)\n",
    "        self.conv1 = nn.Sequential(\n",
    "            nn.Conv2d(2, 64, 3, stride=2, padding=1),\n",
    "            nn.LeakyReLU())\n",
    "        self.conv2 = nn.Sequential(\n",
    "            nn.Conv2d(64, 64, 3, stride=2, padding=1),\n",
    "            nn.BatchNorm2d(64),\n",
    "            nn.LeakyReLU())\n",
    "        self.conv3 = nn.Sequential(\n",
    "            nn.Conv2d(64, 128, 3, stride=2, padding=0),\n",
    "            nn.BatchNorm2d(128),\n",
    "            nn.LeakyReLU())\n",
    "        self.dense = nn.Sequential(\n",
    "            nn.Flatten(),\n",
    "            nn.Linear(3 * 3 * 128, 1),\n",
    "            nn.Sigmoid())\n",
    "        \n",
    "    def forward(self, x, label):\n",
    "        embedded_label = self.embed(label).view(-1, 1, 28, 28)\n",
    "        x = torch.cat([x, embedded_label], dim=1)\n",
    "        x = self.conv1(x)\n",
    "        x = self.conv2(x)\n",
    "        x = self.conv3(x)\n",
    "        x = self.dense(x)\n",
    "        \n",
    "        return x"
   ]
  },
  {
   "cell_type": "markdown",
   "metadata": {},
   "source": [
    "# Training"
   ]
  },
  {
   "cell_type": "code",
   "execution_count": 6,
   "metadata": {},
   "outputs": [],
   "source": [
    "generator = Generator(10, 100).to(device)\n",
    "discriminator = Discriminator(10, (28, 28)).to(device)\n",
    "g_optim = optim.Adam(generator.parameters(), lr=0.001)\n",
    "d_optim = optim.Adam(discriminator.parameters(), lr=0.001)\n",
    "criterion = nn.BCELoss()"
   ]
  },
  {
   "cell_type": "code",
   "execution_count": 9,
   "metadata": {},
   "outputs": [
    {
     "data": {
      "application/vnd.jupyter.widget-view+json": {
       "model_id": "e42933b5aa5f40dda84fa579621f49e5",
       "version_major": 2,
       "version_minor": 0
      },
      "text/plain": [
       "HBox(children=(FloatProgress(value=0.0, max=1875.0), HTML(value='')))"
      ]
     },
     "metadata": {},
     "output_type": "display_data"
    },
    {
     "ename": "KeyboardInterrupt",
     "evalue": "",
     "output_type": "error",
     "traceback": [
      "\u001b[0;31m---------------------------------------------------------------------------\u001b[0m",
      "\u001b[0;31mKeyboardInterrupt\u001b[0m                         Traceback (most recent call last)",
      "\u001b[0;32m<ipython-input-9-467974b1c2f1>\u001b[0m in \u001b[0;36m<module>\u001b[0;34m\u001b[0m\n\u001b[1;32m     26\u001b[0m \u001b[0;34m\u001b[0m\u001b[0m\n\u001b[1;32m     27\u001b[0m         \u001b[0mg_optim\u001b[0m\u001b[0;34m.\u001b[0m\u001b[0mzero_grad\u001b[0m\u001b[0;34m(\u001b[0m\u001b[0;34m)\u001b[0m\u001b[0;34m\u001b[0m\u001b[0;34m\u001b[0m\u001b[0m\n\u001b[0;32m---> 28\u001b[0;31m         \u001b[0mg_loss\u001b[0m\u001b[0;34m.\u001b[0m\u001b[0mbackward\u001b[0m\u001b[0;34m(\u001b[0m\u001b[0;34m)\u001b[0m\u001b[0;34m\u001b[0m\u001b[0;34m\u001b[0m\u001b[0m\n\u001b[0m\u001b[1;32m     29\u001b[0m         \u001b[0mg_optim\u001b[0m\u001b[0;34m.\u001b[0m\u001b[0mstep\u001b[0m\u001b[0;34m(\u001b[0m\u001b[0;34m)\u001b[0m\u001b[0;34m\u001b[0m\u001b[0;34m\u001b[0m\u001b[0m\n\u001b[1;32m     30\u001b[0m \u001b[0;34m\u001b[0m\u001b[0m\n",
      "\u001b[0;32m~/miniconda3/envs/pytorch13/lib/python3.7/site-packages/torch/tensor.py\u001b[0m in \u001b[0;36mbackward\u001b[0;34m(self, gradient, retain_graph, create_graph)\u001b[0m\n\u001b[1;32m    164\u001b[0m                 \u001b[0mproducts\u001b[0m\u001b[0;34m.\u001b[0m \u001b[0mDefaults\u001b[0m \u001b[0mto\u001b[0m\u001b[0;31m \u001b[0m\u001b[0;31m`\u001b[0m\u001b[0;31m`\u001b[0m\u001b[0;32mFalse\u001b[0m\u001b[0;31m`\u001b[0m\u001b[0;31m`\u001b[0m\u001b[0;34m.\u001b[0m\u001b[0;34m\u001b[0m\u001b[0;34m\u001b[0m\u001b[0m\n\u001b[1;32m    165\u001b[0m         \"\"\"\n\u001b[0;32m--> 166\u001b[0;31m         \u001b[0mtorch\u001b[0m\u001b[0;34m.\u001b[0m\u001b[0mautograd\u001b[0m\u001b[0;34m.\u001b[0m\u001b[0mbackward\u001b[0m\u001b[0;34m(\u001b[0m\u001b[0mself\u001b[0m\u001b[0;34m,\u001b[0m \u001b[0mgradient\u001b[0m\u001b[0;34m,\u001b[0m \u001b[0mretain_graph\u001b[0m\u001b[0;34m,\u001b[0m \u001b[0mcreate_graph\u001b[0m\u001b[0;34m)\u001b[0m\u001b[0;34m\u001b[0m\u001b[0;34m\u001b[0m\u001b[0m\n\u001b[0m\u001b[1;32m    167\u001b[0m \u001b[0;34m\u001b[0m\u001b[0m\n\u001b[1;32m    168\u001b[0m     \u001b[0;32mdef\u001b[0m \u001b[0mregister_hook\u001b[0m\u001b[0;34m(\u001b[0m\u001b[0mself\u001b[0m\u001b[0;34m,\u001b[0m \u001b[0mhook\u001b[0m\u001b[0;34m)\u001b[0m\u001b[0;34m:\u001b[0m\u001b[0;34m\u001b[0m\u001b[0;34m\u001b[0m\u001b[0m\n",
      "\u001b[0;32m~/miniconda3/envs/pytorch13/lib/python3.7/site-packages/torch/autograd/__init__.py\u001b[0m in \u001b[0;36mbackward\u001b[0;34m(tensors, grad_tensors, retain_graph, create_graph, grad_variables)\u001b[0m\n\u001b[1;32m     97\u001b[0m     Variable._execution_engine.run_backward(\n\u001b[1;32m     98\u001b[0m         \u001b[0mtensors\u001b[0m\u001b[0;34m,\u001b[0m \u001b[0mgrad_tensors\u001b[0m\u001b[0;34m,\u001b[0m \u001b[0mretain_graph\u001b[0m\u001b[0;34m,\u001b[0m \u001b[0mcreate_graph\u001b[0m\u001b[0;34m,\u001b[0m\u001b[0;34m\u001b[0m\u001b[0;34m\u001b[0m\u001b[0m\n\u001b[0;32m---> 99\u001b[0;31m         allow_unreachable=True)  # allow_unreachable flag\n\u001b[0m\u001b[1;32m    100\u001b[0m \u001b[0;34m\u001b[0m\u001b[0m\n\u001b[1;32m    101\u001b[0m \u001b[0;34m\u001b[0m\u001b[0m\n",
      "\u001b[0;31mKeyboardInterrupt\u001b[0m: "
     ]
    }
   ],
   "source": [
    "y_real = torch.ones(batch_size, 1).to(device)\n",
    "y_fake = torch.zeros(batch_size, 1).to(device)\n",
    "\n",
    "for epoch in range(100):\n",
    "    for x, labels in tqdm(train_loader):\n",
    "        x = x.to(device)\n",
    "        labels = labels.to(device)\n",
    "        d_out = discriminator(x, labels)\n",
    "        d_loss_real = criterion(d_out, y_real)\n",
    "\n",
    "        d_optim.zero_grad()\n",
    "        d_loss_real.backward()\n",
    "        d_optim.step()\n",
    "\n",
    "        x_gen = generator(get_z_vector(batch_size, 100).to(device), labels)\n",
    "        d_out = discriminator(x_gen, labels)\n",
    "        d_loss_fake = criterion(d_out, y_fake)\n",
    "        \n",
    "        d_optim.zero_grad()\n",
    "        d_loss_fake.backward()\n",
    "        d_optim.step()\n",
    "        \n",
    "        x_gen = generator(get_z_vector(batch_size, 100).to(device), labels)\n",
    "        d_out = discriminator(x_gen, labels)\n",
    "        g_loss = criterion(d_out, y_real)\n",
    "        \n",
    "        g_optim.zero_grad()\n",
    "        g_loss.backward()\n",
    "        g_optim.step()\n",
    "        \n",
    "    print(f\"D-Loss: {d_loss_real + d_loss_fake:.4} G-Loss: {g_loss:.4}\")\n",
    "    sample_images(generator)\n",
    "    "
   ]
  },
  {
   "cell_type": "code",
   "execution_count": null,
   "metadata": {},
   "outputs": [],
   "source": [
    "def sample_images(generator, image_grid_rows=2, image_grid_columns=5):\n",
    "    # Sample random noise\n",
    "    z = get_z_vector(image_grid_rows * image_grid_columns, 100).to(device)\n",
    "\n",
    "    # Generate images from random noise\n",
    "    with torch.no_grad():\n",
    "        generator.eval()\n",
    "        gen_imgs = generator(z, torch.tensor([0, 1, 2, 3, 4, 5, 6, 7, 8, 9], device=device)).cpu().detach().view(-1, 28, 28).numpy()\n",
    "        generator.train()\n",
    "\n",
    "    # Rescale image pixel values to [0, 1]\n",
    "    gen_imgs = 0.5 * gen_imgs + 0.5\n",
    "\n",
    "    # Set image grid\n",
    "    fig, axs = plt.subplots(image_grid_rows,\n",
    "                            image_grid_columns,\n",
    "                            figsize=(6, 3),\n",
    "                            sharey=True,\n",
    "                            sharex=True)\n",
    "\n",
    "    cnt = 0\n",
    "    for i in range(image_grid_rows):\n",
    "        for j in range(image_grid_columns):\n",
    "            # Output a grid of images\n",
    "            axs[i, j].imshow(gen_imgs[cnt, :, :], cmap='gray')\n",
    "            axs[i, j].axis('off')\n",
    "            cnt += 1"
   ]
  },
  {
   "cell_type": "code",
   "execution_count": null,
   "metadata": {},
   "outputs": [],
   "source": [
    "sample_images(generator)"
   ]
  },
  {
   "cell_type": "code",
   "execution_count": 19,
   "metadata": {},
   "outputs": [],
   "source": [
    "def sample_images2(generator, image_grid_rows=10, image_grid_columns=5):\n",
    "    # Sample random noise\n",
    "    z = get_z_vector(image_grid_rows * image_grid_columns, 100).to(device)\n",
    "\n",
    "    # Generate images from random noise\n",
    "    with torch.no_grad():\n",
    "        generator.eval()\n",
    "        gen_imgs = generator(z, torch.tensor([i for i in range(0, 10) for _ in range(5)], device=device)).cpu().detach().view(-1, 28, 28).numpy()\n",
    "        generator.train()\n",
    "\n",
    "    # Rescale image pixel values to [0, 1]\n",
    "    gen_imgs = 0.5 * gen_imgs + 0.5\n",
    "\n",
    "    # Set image grid\n",
    "    fig, axs = plt.subplots(image_grid_rows,\n",
    "                            image_grid_columns,\n",
    "                            figsize=(6, 10),\n",
    "                            sharey=True,\n",
    "                            sharex=True)\n",
    "\n",
    "    cnt = 0\n",
    "    for i in range(image_grid_rows):\n",
    "        for j in range(image_grid_columns):\n",
    "            # Output a grid of images\n",
    "            axs[i, j].imshow(gen_imgs[cnt, :, :], cmap='gray')\n",
    "            axs[i, j].axis('off')\n",
    "            cnt += 1"
   ]
  },
  {
   "cell_type": "code",
   "execution_count": 20,
   "metadata": {},
   "outputs": [
    {
     "data": {
      "image/png": "[encoded data removed]",
      "text/plain": [
       "<Figure size 432x720 with 50 Axes>"
      ]
     },
     "metadata": {
      "needs_background": "light"
     },
     "output_type": "display_data"
    }
   ],
   "source": [
    "sample_images2(generator)"
   ]
  },
  {
   "cell_type": "code",
   "execution_count": null,
   "metadata": {},
   "outputs": [],
   "source": [
    "for x in g_optim.state_dict():\n",
    "    print(x)"
   ]
  },
  {
   "cell_type": "code",
   "execution_count": 14,
   "metadata": {},
   "outputs": [
    {
     "data": {
      "text/plain": [
       "<All keys matched successfully>"
      ]
     },
     "execution_count": 14,
     "metadata": {},
     "output_type": "execute_result"
    }
   ],
   "source": [
    "generator.load_state_dict(torch.load(\"generator.pth\"))"
   ]
  },
  {
   "cell_type": "code",
   "execution_count": 15,
   "metadata": {},
   "outputs": [
    {
     "data": {
      "text/plain": [
       "<All keys matched successfully>"
      ]
     },
     "execution_count": 15,
     "metadata": {},
     "output_type": "execute_result"
    }
   ],
   "source": [
    "discriminator.load_state_dict(torch.load('discriminator.pth'))"
   ]
  },
  {
   "cell_type": "code",
   "execution_count": null,
   "metadata": {},
   "outputs": [],
   "source": []
  }
 ],
 "metadata": {
  "kernelspec": {
   "display_name": "Python 3",
   "language": "python",
   "name": "python3"
  },
  "language_info": {
   "codemirror_mode": {
    "name": "ipython",
    "version": 3
   },
   "file_extension": ".py",
   "mimetype": "text/x-python",
   "name": "python",
   "nbconvert_exporter": "python",
   "pygments_lexer": "ipython3",
   "version": "3.7.5"
  }
 },
 "nbformat": 4,
 "nbformat_minor": 2
}
