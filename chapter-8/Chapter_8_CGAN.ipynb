{
 "cells": [
  {
   "cell_type": "markdown",
   "metadata": {},
   "source": [
    "# Chapter 8: Conditional GAN\n",
    "\n",
    "Conditional GAN is a GAN variant presented in the paper [Conditional Generative Adversarial Nets](https://arxiv.org/abs/1411.1784) by *Mehdi Mirza* and *Simon Osindero*. This architecture allows to direct the generator what samples to create.\n",
    "\n",
    "The provided example in this notebook is using the MNIST dataset to train a generator and allows to tell the generator what number should be generated. The CGAN has the following architecture.\n",
    "![Architecture](img/architecture.png)"
   ]
  },
  {
   "cell_type": "markdown",
   "metadata": {},
   "source": [
    "# Imports\n",
    "\n",
    "Some PyTorch modules and classes are imported as well as `tqdm` to provide graphical feedback during training and `matplotlib` for plotting graphs."
   ]
  },
  {
   "cell_type": "code",
   "execution_count": 1,
   "metadata": {},
   "outputs": [],
   "source": [
    "import torch\n",
    "import torch.nn as nn\n",
    "import torch.optim as optim\n",
    "from torch.utils.data import DataLoader, RandomSampler\n",
    "import torch.cuda as cuda\n",
    "from torchvision.datasets import MNIST\n",
    "from torchvision.transforms import Compose, ToTensor, Lambda\n",
    "\n",
    "from tqdm.notebook import tqdm\n",
    "import matplotlib.pyplot as plt"
   ]
  },
  {
   "cell_type": "markdown",
   "metadata": {},
   "source": [
    "# Loading data\n",
    "\n",
    "We use the PyTorch data loading capabilities and define the function `get_z_vector` to get a latent vector $z$ of the desired length.\n",
    "\n",
    "The PyTorch `torchvision` package provides a convenient way to access the MNIST dataset. The images in the dataset come in the range $\\left[0, 255\\right]$ and are first converted to a tensor in the range $\\left[0.0, 1.0\\right]$ and finally normalized with `Lambda` to be in $\\left[-1.0, +1.0\\right]$."
   ]
  },
  {
   "cell_type": "code",
   "execution_count": 2,
   "metadata": {},
   "outputs": [],
   "source": [
    "# A transform which results that the images are in the desired range\n",
    "trans = Compose([ToTensor(), Lambda(lambda x: x * 2 - 1)])\n",
    "\n",
    "# The actual MNIST dataset on which the transformation is applied\n",
    "train_set = MNIST('~/pytorch', train=True, transform=trans, download=True)\n",
    "\n",
    "# Function to get the latent vector z\n",
    "def get_z_vector(batch_size, length):\n",
    "    return torch.randn(batch_size, length)"
   ]
  },
  {
   "cell_type": "markdown",
   "metadata": {},
   "source": [
    "# Support CUDA\n",
    "\n",
    "In PyTorch GPU (CUDA) support is done explicitly by moving the tensors to the device. Therefore, we define the variable `device` which is used in the following code to execute the tensors on the GPU or CPU."
   ]
  },
  {
   "cell_type": "code",
   "execution_count": 3,
   "metadata": {},
   "outputs": [
    {
     "name": "stdout",
     "output_type": "stream",
     "text": [
      "Using cuda device for training\n"
     ]
    }
   ],
   "source": [
    "if cuda.is_available():\n",
    "    print(\"Using cuda device for training\")\n",
    "    device = 'cuda'\n",
    "else:\n",
    "    print(\"Using cpu for training\")\n",
    "    device = 'cpu'"
   ]
  },
  {
   "cell_type": "markdown",
   "metadata": {},
   "source": [
    "# Generator\n",
    "\n",
    "The generator takes as input a latent vector $z$ and a label $y$ and converts it to an image.\n",
    "\n",
    "![Generator](img/generator.png)\n",
    "\n",
    "The input vector $z$ and a embedding of the label $embed(y)$ are elementwise multiplied before passed to `Linear` layer. This layer is than reshaped to a three dimensional feature map of shape $(256, 7, 7)$ before passed to transposed convolutional layers `ConvTranspose2d`."
   ]
  },
  {
   "cell_type": "code",
   "execution_count": 4,
   "metadata": {},
   "outputs": [],
   "source": [
    "class Generator(nn.Module):\n",
    "    def __init__(self, num_classes, z_dim):\n",
    "        super().__init__()\n",
    "        \n",
    "        # Embedding which outputs a vector of dimension z_dim\n",
    "        self.embed = nn.Embedding(num_classes, z_dim)\n",
    "        \n",
    "        # Linear combination of the latent vector z\n",
    "        self.dense = nn.Linear(z_dim, 7 * 7 * 256)\n",
    "        \n",
    "        # The transposed convolutional layers are wrapped in nn.Sequential\n",
    "        self.trans1 = nn.Sequential(\n",
    "            nn.ConvTranspose2d(256, 128, 3, stride=2, padding=1, output_padding=1),\n",
    "            nn.BatchNorm2d(128),\n",
    "            nn.LeakyReLU())\n",
    "        \n",
    "        self.trans2 = nn.Sequential(\n",
    "            nn.ConvTranspose2d(128, 64, 3, stride=1, padding=1),\n",
    "            nn.BatchNorm2d(64),\n",
    "            nn.LeakyReLU())\n",
    "        \n",
    "        self.trans3 = nn.Sequential(\n",
    "            nn.ConvTranspose2d(64, 1, 3, stride=2, padding=1, output_padding=1),\n",
    "            nn.Tanh())\n",
    "        \n",
    "    def forward(self, z, label):\n",
    "        # Apply embedding to the input label\n",
    "        embedded_label = self.embed(label)\n",
    "        \n",
    "        # Element wise multiplication of latent vector and embedding\n",
    "        x = embedded_label * z\n",
    "        \n",
    "        # Application of dense layer and transforming to 3d shape\n",
    "        x = self.dense(x).view(-1, 256, 7, 7)\n",
    "        x = self.trans1(x)\n",
    "        x = self.trans2(x)\n",
    "        x = self.trans3(x)\n",
    "        \n",
    "        return x"
   ]
  },
  {
   "cell_type": "markdown",
   "metadata": {},
   "source": [
    "# Discriminator\n",
    "\n",
    "The descriminator converts the inputs $(x, y)$ into a prediction $\\sigma$, which is the probablity that the input is sampled from a real distribution $p_{data}$. The architecture is shown in the image below.\n",
    "\n",
    "![Discriminator](img/discriminator.png)\n",
    "\n",
    "The discriminator embeds the label $embed(y)$ and concatinates it with the image $x$. After that, three `Conv2d` layers with `LeakyReLU` activation and `BatchNorm2d` follow. Note that the fist layer does not use batch normalization.\n",
    "\n",
    "At the end of the network a `Linear` layer is used with `Sigmoid` activation."
   ]
  },
  {
   "cell_type": "code",
   "execution_count": 5,
   "metadata": {},
   "outputs": [],
   "source": [
    "class Discriminator(nn.Module):\n",
    "    def __init__(self, num_classes, img_size):\n",
    "        super().__init__()\n",
    "\n",
    "        # Embedding which outputs a vector of img_size\n",
    "        self.embed = nn.Embedding(num_classes, img_size[0] * img_size[1])\n",
    "        \n",
    "        # It convenient to group conv layers with nn.Sequential\n",
    "        self.conv1 = nn.Sequential(\n",
    "            nn.Conv2d(2, 64, 3, stride=2, padding=1),\n",
    "            nn.LeakyReLU())\n",
    "        \n",
    "        self.conv2 = nn.Sequential(\n",
    "            nn.Conv2d(64, 64, 3, stride=2, padding=1),\n",
    "            nn.BatchNorm2d(64),\n",
    "            nn.LeakyReLU())\n",
    "        \n",
    "        self.conv3 = nn.Sequential(\n",
    "            nn.Conv2d(64, 128, 3, stride=2, padding=0),\n",
    "            nn.BatchNorm2d(128),\n",
    "            nn.LeakyReLU())\n",
    "        \n",
    "        # The 3D feature map is flattened to perform a linear combination\n",
    "        self.dense = nn.Sequential(\n",
    "            nn.Flatten(),\n",
    "            nn.Linear(3 * 3 * 128, 1),\n",
    "            nn.Sigmoid())\n",
    "        \n",
    "    def forward(self, x, label):\n",
    "        # Apply embedding and convert to same shape as x\n",
    "        embedded_label = self.embed(label).view_as(x)\n",
    "        \n",
    "        # Concatenation of x and embedded label\n",
    "        x = torch.cat([x, embedded_label], dim=1)\n",
    "        \n",
    "        x = self.conv1(x)\n",
    "        x = self.conv2(x)\n",
    "        x = self.conv3(x)\n",
    "        x = self.dense(x)\n",
    "        \n",
    "        return x"
   ]
  },
  {
   "cell_type": "markdown",
   "metadata": {},
   "source": [
    "# Training"
   ]
  },
  {
   "cell_type": "code",
   "execution_count": 6,
   "metadata": {},
   "outputs": [],
   "source": [
    "NUM_CLASSES = 10\n",
    "Z_DIM = 100\n",
    "IMG_SIZE = (28, 28)"
   ]
  },
  {
   "cell_type": "markdown",
   "metadata": {},
   "source": [
    "Generator and discriminater are instantiated as well as an `Adam` optimizer for each model. The optimizing criteria for each model is a Binary Cross Entropy Loss `BCELoss`."
   ]
  },
  {
   "cell_type": "code",
   "execution_count": 7,
   "metadata": {},
   "outputs": [],
   "source": [
    "# Generator is instantiated\n",
    "generator = Generator(NUM_CLASSES, Z_DIM).to(device)\n",
    "\n",
    "# Discriminator is instantiated\n",
    "discriminator = Discriminator(NUM_CLASSES, IMG_SIZE).to(device)\n",
    "\n",
    "# Discriminator and generator have their own optimizer\n",
    "g_optim = optim.Adam(generator.parameters(), lr=0.001)\n",
    "d_optim = optim.Adam(discriminator.parameters(), lr=0.001)\n",
    "\n",
    "# Binary cross entropy loss is used for discriminator and generator\n",
    "criterion = nn.BCELoss()"
   ]
  },
  {
   "cell_type": "markdown",
   "metadata": {},
   "source": [
    "The train function instantiates a `RandomSampler` and `DataLoader` to iterate through the dataset randomly in batch sizes. The training of the generator and discriminator are performed as follows:\n",
    "\n",
    "1. The discriminator is trained to predict correctly for real images\n",
    "2. The discriminator is trained to predict correctly for fake images\n",
    "3. The generator is trained to force the discrimintor to predict incorrectly on fake images"
   ]
  },
  {
   "cell_type": "code",
   "execution_count": 8,
   "metadata": {},
   "outputs": [],
   "source": [
    "def train(batch_size, iterations, sample_interval):\n",
    "    # A random sampler which will provide the indicies to the DataLoader\n",
    "    sampler = RandomSampler(train_set, replacement=True, num_samples=batch_size * iterations)\n",
    "\n",
    "    # The DataLoader which provides us batches of data samples\n",
    "    train_loader = DataLoader(train_set, batch_size=batch_size, sampler=sampler, drop_last=True)\n",
    "    \n",
    "    # Vectors for real (all one) and fake (all zero) labels\n",
    "    y_real = torch.ones(batch_size, 1).to(device)\n",
    "    y_fake = torch.zeros(batch_size, 1).to(device)\n",
    "\n",
    "    # The losses are recorded all sample_interval\n",
    "    losses = []\n",
    "\n",
    "    # Variables used for recording of losses\n",
    "    iteration = 0\n",
    "    d_loss = 0.0\n",
    "    g_loss = 0.0\n",
    "    \n",
    "    for x, labels in tqdm(train_loader):\n",
    "        # Tensors have to be moved to the desired device\n",
    "        x = x.to(device)\n",
    "        labels = labels.to(device)\n",
    "\n",
    "        #\n",
    "        # 1. Train discriminator on real images\n",
    "        #\n",
    "        \n",
    "        # Perform forward pass for real images and calculate loss\n",
    "        d_out = discriminator(x, labels)\n",
    "        d_loss_real = criterion(d_out, y_real)\n",
    "\n",
    "        # Optimize according to the calculated loss\n",
    "        d_optim.zero_grad()\n",
    "        d_loss_real.backward()\n",
    "        d_optim.step()\n",
    "\n",
    "        \n",
    "        #\n",
    "        # 2. Train discriminator on fake images\n",
    "        #\n",
    "        \n",
    "        # Generate fake images and perform forward pass for fake images and\n",
    "        # calculate loss\n",
    "        x_gen = generator(get_z_vector(batch_size, Z_DIM).to(device), labels)\n",
    "        d_out = discriminator(x_gen, labels)\n",
    "        d_loss_fake = criterion(d_out, y_fake)\n",
    "        \n",
    "        # Optimize according to the calculated loss\n",
    "        d_optim.zero_grad()\n",
    "        d_loss_fake.backward()\n",
    "        d_optim.step()\n",
    "        \n",
    "        #\n",
    "        # 3. Train generator to force discriminator making false predictions\n",
    "        #\n",
    "        \n",
    "        # Generate fake images and perform forward pass for fake images but\n",
    "        # real labels and calculate loss\n",
    "        x_gen = generator(get_z_vector(batch_size, Z_DIM).to(device), labels)\n",
    "        d_out = discriminator(x_gen, labels)\n",
    "        g_loss_real = criterion(d_out, y_real)\n",
    "        \n",
    "        # Optimize according to the calculated loss\n",
    "        g_optim.zero_grad()\n",
    "        g_loss_real.backward()\n",
    "        g_optim.step()\n",
    "\n",
    "        # Calculate discriminator and generator loss for visualization\n",
    "        d_loss += 0.5 * (d_loss_real + d_loss_fake).item()\n",
    "        g_loss += g_loss_real.item()\n",
    "\n",
    "        iteration += 1\n",
    "        \n",
    "        if iteration % sample_interval == 0:\n",
    "            # Calculate the loss for the last sample_interval iterations\n",
    "            d_loss = d_loss / sample_interval\n",
    "            g_loss = g_loss / sample_interval\n",
    "            \n",
    "            print(f\"D-Loss: {d_loss:.4f} G-Loss: {g_loss:.4f}\")\n",
    "            \n",
    "            # Add loss and reset for next iterations\n",
    "            losses.append((d_loss, g_loss))\n",
    "            d_loss = 0\n",
    "            g_loss = 0\n",
    "\n",
    "    return losses"
   ]
  },
  {
   "cell_type": "markdown",
   "metadata": {},
   "source": [
    "Training is performed with a batch `batch_size=32`, `iterations=12000` and `sample_interval=1000`"
   ]
  },
  {
   "cell_type": "code",
   "execution_count": 9,
   "metadata": {},
   "outputs": [
    {
     "data": {
      "application/vnd.jupyter.widget-view+json": {
       "model_id": "ccc02fb348834b83b7b4cd71bd502d5a",
       "version_major": 2,
       "version_minor": 0
      },
      "text/plain": [
       "HBox(children=(FloatProgress(value=0.0, max=12000.0), HTML(value='')))"
      ]
     },
     "metadata": {},
     "output_type": "display_data"
    },
    {
     "name": "stdout",
     "output_type": "stream",
     "text": [
      "D-Loss: 0.1308 G-Loss: 4.8754\n",
      "D-Loss: 0.2342 G-Loss: 3.4194\n",
      "D-Loss: 0.2532 G-Loss: 2.9811\n",
      "D-Loss: 0.2838 G-Loss: 2.8567\n",
      "D-Loss: 0.3105 G-Loss: 2.6349\n",
      "D-Loss: 0.3068 G-Loss: 2.5829\n",
      "D-Loss: 0.3039 G-Loss: 2.5526\n",
      "D-Loss: 0.3246 G-Loss: 2.5178\n",
      "D-Loss: 0.3188 G-Loss: 2.4922\n",
      "D-Loss: 0.3082 G-Loss: 2.6052\n",
      "D-Loss: 0.3023 G-Loss: 2.5696\n",
      "D-Loss: 0.3157 G-Loss: 2.5355\n",
      "\n"
     ]
    }
   ],
   "source": [
    "losses = train(batch_size=32, iterations=12000, sample_interval=1000)"
   ]
  },
  {
   "cell_type": "markdown",
   "metadata": {},
   "source": [
    "# Visualizations\n",
    "\n",
    "## Generator\n",
    "The visualization of the generator shows that the generator is capable to create convincing digits with variation that can be controlled with the label `y`. The functions is adapted from the book GANs in Action."
   ]
  },
  {
   "cell_type": "code",
   "execution_count": 10,
   "metadata": {},
   "outputs": [],
   "source": [
    "def sample_digits(generator, image_grid_rows=6, image_grid_columns=10):\n",
    "    # Sample random noise\n",
    "    z = get_z_vector(image_grid_rows * image_grid_columns, 100).to(device)\n",
    "\n",
    "    # Generate images from random noise\n",
    "    with torch.no_grad():\n",
    "        generator.eval()\n",
    "        gen_imgs = generator(z, torch.tensor([i for _ in range(image_grid_rows) for i in range(0, 10)], device=device)).cpu().detach().view(-1, 28, 28).numpy()\n",
    "        generator.train()\n",
    "\n",
    "    # Rescale image pixel values to [0, 1]\n",
    "    gen_imgs = 0.5 * gen_imgs + 0.5\n",
    "\n",
    "    # Set image grid\n",
    "    fig, axs = plt.subplots(image_grid_rows,\n",
    "                            image_grid_columns,\n",
    "                            figsize=(10, 6),\n",
    "                            sharey=True,\n",
    "                            sharex=True)\n",
    "\n",
    "    cnt = 0\n",
    "    for i in range(image_grid_rows):\n",
    "        for j in range(image_grid_columns):\n",
    "            # Output a grid of images\n",
    "            axs[i, j].imshow(gen_imgs[cnt, :, :], cmap='gray')\n",
    "            axs[i, j].axis('off')\n",
    "            cnt += 1"
   ]
  },
  {
   "cell_type": "code",
   "execution_count": 11,
   "metadata": {},
   "outputs": [
    {
     "data": {
      "image/png": "[encoded data removed]",
      "text/plain": [
       "<Figure size 720x432 with 60 Axes>"
      ]
     },
     "metadata": {
      "needs_background": "light"
     },
     "output_type": "display_data"
    }
   ],
   "source": [
    "sample_digits(generator)"
   ]
  },
  {
   "cell_type": "markdown",
   "metadata": {},
   "source": [
    "## Generator and discriminator loss\n",
    "Visualization of the discriminator and generator loss while iterating through the batches"
   ]
  },
  {
   "cell_type": "code",
   "execution_count": 12,
   "metadata": {},
   "outputs": [],
   "source": [
    "def plot_losses(data):\n",
    "    checkpoints = range(0, len(data) * 1000, 1000)\n",
    "    plt.figure(figsize=(15,5))\n",
    "    plt.plot(checkpoints, [x[0] for x in data], label='Discriminator')\n",
    "    plt.plot(checkpoints, [x[1] for x in data], label='Generator')\n",
    "    plt.ylabel(\"Loss\")\n",
    "    plt.xlabel(\"Batches\")\n",
    "    plt.legend()\n",
    "    plt.show()"
   ]
  },
  {
   "cell_type": "code",
   "execution_count": 13,
   "metadata": {},
   "outputs": [
    {
     "data": {
      "image/png": "[encoded data removed]",
      "text/plain": [
       "<Figure size 1080x360 with 1 Axes>"
      ]
     },
     "metadata": {
      "needs_background": "light"
     },
     "output_type": "display_data"
    }
   ],
   "source": [
    "plot_losses(losses)"
   ]
  }
 ],
 "metadata": {
  "kernelspec": {
   "display_name": "Python 3",
   "language": "python",
   "name": "python3"
  },
  "language_info": {
   "codemirror_mode": {
    "name": "ipython",
    "version": 3
   },
   "file_extension": ".py",
   "mimetype": "text/x-python",
   "name": "python",
   "nbconvert_exporter": "python",
   "pygments_lexer": "ipython3",
   "version": "3.7.5"
  }
 },
 "nbformat": 4,
 "nbformat_minor": 2
}
